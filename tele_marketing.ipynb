{
 "cells": [
  {
   "cell_type": "markdown",
   "metadata": {},
   "source": [
    " \n",
    "## Rushikesh Narhare "
   ]
  },
  {
   "cell_type": "markdown",
   "metadata": {},
   "source": [
    "### Table of Contents:\n",
    "1. [Data Preprocessing](#Data-Preprocessing)\n",
    "    \n",
    "    \n",
    "2. [Basic Exploratory Data Analysis](#Basic-Exploratory-Data-Analysis)\n",
    "\n",
    "        \n",
    "3. [Join and Split Data](#Join-and-Split-Data)\n",
    "\n",
    "\n",
    "4. [Modelling](#Modelling)\n",
    "\n",
    "\n",
    "5. [Hypothesis Test](#Hypothesis-Test)\n",
    "\n",
    "\n",
    "6. [Recommendations](#Recommendations)"
   ]
  },
  {
   "cell_type": "markdown",
   "metadata": {},
   "source": [
    "## Data Preprocessing"
   ]
  },
  {
   "cell_type": "code",
   "execution_count": 1,
   "metadata": {},
   "outputs": [],
   "source": [
    "import collections\n",
    "import numpy as np\n",
    "import pandas as pd \n",
    "import seaborn as sns\n",
    "import matplotlib.pyplot as plt\n",
    "from scipy.stats import ttest_1samp\n",
    "from imblearn.over_sampling import SMOTE\n",
    "from sklearn.model_selection import GridSearchCV\n",
    "from sklearn.ensemble import RandomForestClassifier\n",
    "from sklearn.model_selection import train_test_split\n",
    "from sklearn.metrics import accuracy_score, precision_score, f1_score, roc_auc_score\n",
    "\n",
    "pd.set_option('display.max_columns', 65)"
   ]
  },
  {
   "cell_type": "code",
   "execution_count": 2,
   "metadata": {},
   "outputs": [],
   "source": [
    "df_call= pd.read_excel(\"data.xlsx\", sheet_name= \"Call Facts\")"
   ]
  },
  {
   "cell_type": "code",
   "execution_count": 3,
   "metadata": {},
   "outputs": [],
   "source": [
    "df_leads= pd.read_excel(\"data.xlsx\", sheet_name= \"Lead Facts\")"
   ]
  },
  {
   "cell_type": "markdown",
   "metadata": {},
   "source": [
    "### Data Cleaning"
   ]
  },
  {
   "cell_type": "code",
   "execution_count": 4,
   "metadata": {},
   "outputs": [],
   "source": [
    "#Dropping column having single value, CallType beacause calltypeId is present and Id columns\n",
    "\n",
    "#df_call.nunique()\n",
    "#df_call.info()\n",
    "\n",
    "columns=['callTypeId','dimProgramId','dispoCode', 'talkTimeSeconds','cdsCallsFactId', 'dialerCallId',\n",
    "                               'callDnis', 'totalCalls', 'outboundCalls', 'outboundCallbacks', 'inboundCalls', 'manualCalls', \n",
    "                               'inboundCallsHandled','callSkill'] \n",
    "\n",
    "df_call= df_call.drop(columns= columns, axis=1)"
   ]
  },
  {
   "cell_type": "code",
   "execution_count": 5,
   "metadata": {},
   "outputs": [],
   "source": [
    "#Dropping columns having all null values or single values  and Id columns.\n",
    "\n",
    "#df_leads.nunique()\n",
    "#df_leads.info()\n",
    "\n",
    "columns=['dimProgramId', 'tztMarketingProject', 'omsMarketingProject', 'externalSystem', 'dimMarketingSourceId',\n",
    "         'dimMarketingSourceId', 'productOfInterest', 'tobacco', 'expirationInDays','originalInboundDnis' , \n",
    "         'cdsLeadFactId', 'sourceSystem', 'sourceSystemId', 'cdsPersonId', 'externalSystemId','campaign id',\n",
    "         'leadTypeId', 'leadZip', 'callCenterLeadCreatedReason','callCenterLeadCloneSourceId', \n",
    "         'callCenterMinutesToFirstDialAttempt', 'callCenterDialAttempts','leadsReceived', 'leadsAccepted', \n",
    "         'leadsRejected', 'rejectType','rejectReason','callCenterLeadsTotal', 'callCenterLeadEverContacted',\n",
    "         'callCenterLeadEverSold', 'callCenterLatestDispo', 'batchid', 'leadType', 'deliveryMethod', 'everCallback','afid']\n",
    "\n",
    "df_leads= df_leads.drop(columns= columns, axis=1)"
   ]
  },
  {
   "cell_type": "code",
   "execution_count": 6,
   "metadata": {},
   "outputs": [
    {
     "data": {
      "text/plain": [
       "array(['F', 'M', 'U', nan, 0], dtype=object)"
      ]
     },
     "execution_count": 6,
     "metadata": {},
     "output_type": "execute_result"
    }
   ],
   "source": [
    "# Changing null and 0 values in gender column, to do so I have combined 0 and nan values in U category.\n",
    "df_leads.gender.unique()"
   ]
  },
  {
   "cell_type": "code",
   "execution_count": 7,
   "metadata": {},
   "outputs": [],
   "source": [
    "# filling and replacing 0 and nan values.\n",
    "df_leads.gender= df_leads.gender.fillna(value='U')\n",
    "df_leads.gender= df_leads.gender.replace(to_replace=0, value='U')"
   ]
  },
  {
   "cell_type": "code",
   "execution_count": 8,
   "metadata": {},
   "outputs": [
    {
     "data": {
      "text/html": [
       "<div>\n",
       "<style scoped>\n",
       "    .dataframe tbody tr th:only-of-type {\n",
       "        vertical-align: middle;\n",
       "    }\n",
       "\n",
       "    .dataframe tbody tr th {\n",
       "        vertical-align: top;\n",
       "    }\n",
       "\n",
       "    .dataframe thead th {\n",
       "        text-align: right;\n",
       "    }\n",
       "</style>\n",
       "<table border=\"1\" class=\"dataframe\">\n",
       "  <thead>\n",
       "    <tr style=\"text-align: right;\">\n",
       "      <th></th>\n",
       "      <th>dialerLeadId</th>\n",
       "      <th>dimAgentId</th>\n",
       "      <th>callDate</th>\n",
       "      <th>callDateKey</th>\n",
       "      <th>callType</th>\n",
       "      <th>dispoGroup</th>\n",
       "      <th>dispoDescription</th>\n",
       "      <th>callAttemptNumber</th>\n",
       "      <th>handleTimeSeconds</th>\n",
       "      <th>callEndDate</th>\n",
       "      <th>callEndDateKey</th>\n",
       "      <th>nobleDispoCode</th>\n",
       "    </tr>\n",
       "  </thead>\n",
       "  <tbody>\n",
       "    <tr>\n",
       "      <th>0</th>\n",
       "      <td>3044121</td>\n",
       "      <td>749</td>\n",
       "      <td>2018-07-12 17:23:36.630</td>\n",
       "      <td>2018071217</td>\n",
       "      <td>Outbound</td>\n",
       "      <td>No Sale</td>\n",
       "      <td>Other Refusal / Not Interested</td>\n",
       "      <td>5</td>\n",
       "      <td>101</td>\n",
       "      <td>2018-07-12 17:25:17.337</td>\n",
       "      <td>2018071217</td>\n",
       "      <td>NS</td>\n",
       "    </tr>\n",
       "    <tr>\n",
       "      <th>1</th>\n",
       "      <td>3021053</td>\n",
       "      <td>737</td>\n",
       "      <td>2018-07-16 11:28:26.143</td>\n",
       "      <td>2018071611</td>\n",
       "      <td>Inbound</td>\n",
       "      <td>No Sale</td>\n",
       "      <td>Inquiry / Support Call</td>\n",
       "      <td>3</td>\n",
       "      <td>112</td>\n",
       "      <td>2018-07-16 11:30:18.340</td>\n",
       "      <td>2018071611</td>\n",
       "      <td>NS</td>\n",
       "    </tr>\n",
       "    <tr>\n",
       "      <th>2</th>\n",
       "      <td>3356059</td>\n",
       "      <td>1142</td>\n",
       "      <td>2018-07-16 11:40:35.770</td>\n",
       "      <td>2018071611</td>\n",
       "      <td>Outbound</td>\n",
       "      <td>Non Workable</td>\n",
       "      <td>Disconnected Number</td>\n",
       "      <td>4</td>\n",
       "      <td>9</td>\n",
       "      <td>2018-07-16 11:40:44.323</td>\n",
       "      <td>2018071611</td>\n",
       "      <td>DC</td>\n",
       "    </tr>\n",
       "    <tr>\n",
       "      <th>3</th>\n",
       "      <td>3021053</td>\n",
       "      <td>731</td>\n",
       "      <td>2018-07-16 11:44:22.557</td>\n",
       "      <td>2018071611</td>\n",
       "      <td>Manual Dial</td>\n",
       "      <td>No Sale</td>\n",
       "      <td>Inquiry / Support Call</td>\n",
       "      <td>4</td>\n",
       "      <td>303</td>\n",
       "      <td>2018-07-16 11:49:25.313</td>\n",
       "      <td>2018071611</td>\n",
       "      <td>NS</td>\n",
       "    </tr>\n",
       "    <tr>\n",
       "      <th>4</th>\n",
       "      <td>3185345</td>\n",
       "      <td>987</td>\n",
       "      <td>2018-07-16 11:48:39.603</td>\n",
       "      <td>2018071611</td>\n",
       "      <td>Outbound</td>\n",
       "      <td>Still Workable</td>\n",
       "      <td>Left Message</td>\n",
       "      <td>3</td>\n",
       "      <td>86</td>\n",
       "      <td>2018-07-16 11:50:05.153</td>\n",
       "      <td>2018071611</td>\n",
       "      <td>LM</td>\n",
       "    </tr>\n",
       "  </tbody>\n",
       "</table>\n",
       "</div>"
      ],
      "text/plain": [
       "   dialerLeadId  dimAgentId                callDate  callDateKey     callType  \\\n",
       "0       3044121         749 2018-07-12 17:23:36.630   2018071217     Outbound   \n",
       "1       3021053         737 2018-07-16 11:28:26.143   2018071611      Inbound   \n",
       "2       3356059        1142 2018-07-16 11:40:35.770   2018071611     Outbound   \n",
       "3       3021053         731 2018-07-16 11:44:22.557   2018071611  Manual Dial   \n",
       "4       3185345         987 2018-07-16 11:48:39.603   2018071611     Outbound   \n",
       "\n",
       "       dispoGroup                dispoDescription  callAttemptNumber  \\\n",
       "0         No Sale  Other Refusal / Not Interested                  5   \n",
       "1         No Sale          Inquiry / Support Call                  3   \n",
       "2    Non Workable             Disconnected Number                  4   \n",
       "3         No Sale          Inquiry / Support Call                  4   \n",
       "4  Still Workable                    Left Message                  3   \n",
       "\n",
       "   handleTimeSeconds             callEndDate  callEndDateKey nobleDispoCode  \n",
       "0                101 2018-07-12 17:25:17.337      2018071217             NS  \n",
       "1                112 2018-07-16 11:30:18.340      2018071611             NS  \n",
       "2                  9 2018-07-16 11:40:44.323      2018071611             DC  \n",
       "3                303 2018-07-16 11:49:25.313      2018071611             NS  \n",
       "4                 86 2018-07-16 11:50:05.153      2018071611             LM  "
      ]
     },
     "execution_count": 8,
     "metadata": {},
     "output_type": "execute_result"
    }
   ],
   "source": [
    "df_call.head()"
   ]
  },
  {
   "cell_type": "markdown",
   "metadata": {},
   "source": [
    "## Basic Exploratory Data Analysis"
   ]
  },
  {
   "cell_type": "markdown",
   "metadata": {},
   "source": [
    "Creating 2 separate dataframes from Lead Facts sheet for Sale and No Sale Categories, and merge it with the Calls data to get insights about varaious columns for better understanding of the data."
   ]
  },
  {
   "cell_type": "code",
   "execution_count": 9,
   "metadata": {},
   "outputs": [],
   "source": [
    "df_leads_sales= df_leads[df_leads.callCenterLatestDispoGroup == 'Sale']\n",
    "df_leads_nosales= df_leads[df_leads.callCenterLatestDispoGroup == 'No Sale']\n",
    "\n",
    "merged_sales= pd.merge(left=df_call, right=df_leads_sales, on='dialerLeadId', how= 'inner')\n",
    "merged_nosales= pd.merge(left=df_call, right=df_leads_nosales, on='dialerLeadId', how= 'inner')"
   ]
  },
  {
   "cell_type": "code",
   "execution_count": 10,
   "metadata": {},
   "outputs": [
    {
     "data": {
      "image/png": "[encoded data removed]",
      "text/plain": [
       "<Figure size 720x576 with 1 Axes>"
      ]
     },
     "metadata": {},
     "output_type": "display_data"
    }
   ],
   "source": [
    "# From this countplot we can infer that in the sales category agents with agent ID 731, 763 have made maximum number of calls.\n",
    "\n",
    "sns.set(rc={'figure.figsize':(10,8)})\n",
    "sns.set(style=\"darkgrid\")\n",
    "ax = sns.countplot(x=\"dimAgentId\", data=merged_sales, palette= 'Set1')\n",
    "ax.set_xticklabels(ax.get_xticklabels(), rotation=90);"
   ]
  },
  {
   "cell_type": "markdown",
   "metadata": {},
   "source": [
    "Here, I have used the Count plot on various columns to get a better insight of the data about which categoty is having maximun entries."
   ]
  },
  {
   "cell_type": "code",
   "execution_count": 11,
   "metadata": {},
   "outputs": [
    {
     "data": {
      "image/png": "[encoded data removed]",
      "text/plain": [
       "<Figure size 720x576 with 1 Axes>"
      ]
     },
     "metadata": {},
     "output_type": "display_data"
    }
   ],
   "source": [
    "#CallType Plot\n",
    "# Seaborn Countplot to illustrate the maximun number of Calls were Outbound.\n",
    "\n",
    "sns.set(rc={'figure.figsize':(10,8)})\n",
    "sns.set(style=\"darkgrid\")\n",
    "ax = sns.countplot(x=\"callType\", data=merged_sales, palette= 'Set1')\n",
    "ax.set_xticklabels(ax.get_xticklabels(), rotation=90);"
   ]
  },
  {
   "cell_type": "code",
   "execution_count": 12,
   "metadata": {},
   "outputs": [
    {
     "data": {
      "image/png": "[encoded data removed]",
      "text/plain": [
       "<Figure size 720x576 with 1 Axes>"
      ]
     },
     "metadata": {},
     "output_type": "display_data"
    }
   ],
   "source": [
    "#Highest Age_group having maximum No sales is the age_group 61-70.\n",
    "\n",
    "sns.set(rc={'figure.figsize':(10,8)})\n",
    "sns.set(style=\"darkgrid\")\n",
    "ax = sns.countplot(x=\"ageOnLeadGroup\", data=merged_nosales, palette= 'Set1')\n",
    "ax.set_xticklabels(ax.get_xticklabels(), rotation=90);"
   ]
  },
  {
   "cell_type": "code",
   "execution_count": 13,
   "metadata": {},
   "outputs": [
    {
     "data": {
      "image/png": "[encoded data removed]",
      "text/plain": [
       "<Figure size 720x576 with 1 Axes>"
      ]
     },
     "metadata": {},
     "output_type": "display_data"
    }
   ],
   "source": [
    "#Following graph illustrates the top reason that contributes to NO sales as  the customers do not answer the calls.\n",
    "\n",
    "sns.set(rc={'figure.figsize':(10,8)})\n",
    "sns.set(style=\"darkgrid\")\n",
    "ax = sns.countplot(x=\"dispoDescription\", data=merged_nosales, palette= 'Set1')\n",
    "ax.set_xticklabels(ax.get_xticklabels(), rotation=90);"
   ]
  },
  {
   "cell_type": "code",
   "execution_count": 14,
   "metadata": {},
   "outputs": [
    {
     "data": {
      "image/png": "[encoded data removed]",
      "text/plain": [
       "<Figure size 720x576 with 1 Axes>"
      ]
     },
     "metadata": {},
     "output_type": "display_data"
    }
   ],
   "source": [
    "#This graph shows us even if the sales are not made, agest anre call  cusotmers and some more then 2000 calls were made by some agents.\n",
    "\n",
    "sns.set(rc={'figure.figsize':(10,8)})\n",
    "sns.set(style=\"darkgrid\")\n",
    "ax = sns.countplot(x=\"dimAgentId\", data=merged_nosales, palette= 'Set1')\n",
    "ax.set_xticklabels(ax.get_xticklabels(), rotation=90);"
   ]
  },
  {
   "cell_type": "code",
   "execution_count": 15,
   "metadata": {},
   "outputs": [
    {
     "data": {
      "image/png": "[encoded data removed]",
      "text/plain": [
       "<Figure size 720x576 with 1 Axes>"
      ]
     },
     "metadata": {},
     "output_type": "display_data"
    }
   ],
   "source": [
    "#This graph tells us that the customers rejection reason is they are not interested.\n",
    "\n",
    "sns.set(style=\"darkgrid\")\n",
    "ax = sns.countplot(x=\"callCenterLatestDispoDescription\", data=merged_nosales, palette= 'Set1')\n",
    "ax.set_xticklabels(ax.get_xticklabels(), rotation=90);"
   ]
  },
  {
   "cell_type": "code",
   "execution_count": 16,
   "metadata": {},
   "outputs": [
    {
     "data": {
      "image/png": "[encoded data removed]",
      "text/plain": [
       "<Figure size 720x576 with 1 Axes>"
      ]
     },
     "metadata": {},
     "output_type": "display_data"
    }
   ],
   "source": [
    "#This graph tells us that female customers reject the product or they are not interested as compared to other gender.\n",
    "\n",
    "sns.set(style=\"darkgrid\")\n",
    "ax = sns.countplot(x=\"gender\", data=merged_nosales, palette= 'Set1')\n",
    "ax.set_xticklabels(ax.get_xticklabels(), rotation=90);"
   ]
  },
  {
   "cell_type": "code",
   "execution_count": 17,
   "metadata": {},
   "outputs": [
    {
     "name": "stderr",
     "output_type": "stream",
     "text": [
      "d:\\software\\python3\\lib\\site-packages\\ipykernel_launcher.py:4: UserWarning: Pandas doesn't allow columns to be created via a new attribute name - see https://pandas.pydata.org/pandas-docs/stable/indexing.html#attribute-access\n",
      "  after removing the cwd from sys.path.\n"
     ]
    }
   ],
   "source": [
    "#Hour Analysis\n",
    "# We can extract the call of hour from leadDateKey column to analyze which time of the day people reject or decline the calls.\n",
    "\n",
    "merged_nosales.hour= merged_nosales.callDateKey%100"
   ]
  },
  {
   "cell_type": "code",
   "execution_count": 18,
   "metadata": {
    "scrolled": false
   },
   "outputs": [
    {
     "data": {
      "image/png": "[encoded data removed]",
      "text/plain": [
       "<Figure size 720x576 with 1 Axes>"
      ]
     },
     "metadata": {},
     "output_type": "display_data"
    }
   ],
   "source": [
    "ax = sns.distplot(merged_nosales.hour.values, bins=8)"
   ]
  },
  {
   "cell_type": "code",
   "execution_count": 19,
   "metadata": {
    "scrolled": false
   },
   "outputs": [
    {
     "data": {
      "text/html": [
       "<div>\n",
       "<style scoped>\n",
       "    .dataframe tbody tr th:only-of-type {\n",
       "        vertical-align: middle;\n",
       "    }\n",
       "\n",
       "    .dataframe tbody tr th {\n",
       "        vertical-align: top;\n",
       "    }\n",
       "\n",
       "    .dataframe thead th {\n",
       "        text-align: right;\n",
       "    }\n",
       "</style>\n",
       "<table border=\"1\" class=\"dataframe\">\n",
       "  <thead>\n",
       "    <tr style=\"text-align: right;\">\n",
       "      <th></th>\n",
       "      <th>dialerLeadId</th>\n",
       "      <th>dimAgentId</th>\n",
       "      <th>callDate</th>\n",
       "      <th>callDateKey</th>\n",
       "      <th>callType</th>\n",
       "      <th>dispoGroup</th>\n",
       "      <th>dispoDescription</th>\n",
       "      <th>callAttemptNumber</th>\n",
       "      <th>handleTimeSeconds</th>\n",
       "      <th>callEndDate</th>\n",
       "      <th>callEndDateKey</th>\n",
       "      <th>nobleDispoCode</th>\n",
       "      <th>leadDate</th>\n",
       "      <th>leadDateKey</th>\n",
       "      <th>originalContactType</th>\n",
       "      <th>ageOnLeadGroup</th>\n",
       "      <th>gender</th>\n",
       "      <th>leadCost</th>\n",
       "      <th>callCenterLatestDispoGroup</th>\n",
       "      <th>callCenterLatestDispoDescription</th>\n",
       "      <th>currentSkill</th>\n",
       "      <th>originalSkill</th>\n",
       "      <th>maxAttempts</th>\n",
       "      <th>dailyMaxAttempts</th>\n",
       "    </tr>\n",
       "  </thead>\n",
       "  <tbody>\n",
       "    <tr>\n",
       "      <th>0</th>\n",
       "      <td>3044121</td>\n",
       "      <td>749</td>\n",
       "      <td>2018-07-12 17:23:36.630</td>\n",
       "      <td>2018071217</td>\n",
       "      <td>Outbound</td>\n",
       "      <td>No Sale</td>\n",
       "      <td>Other Refusal / Not Interested</td>\n",
       "      <td>5</td>\n",
       "      <td>101</td>\n",
       "      <td>2018-07-12 17:25:17.337</td>\n",
       "      <td>2018071217</td>\n",
       "      <td>NS</td>\n",
       "      <td>2018-02-23 08:52:00</td>\n",
       "      <td>2018022308</td>\n",
       "      <td>OB</td>\n",
       "      <td>61 - 70</td>\n",
       "      <td>M</td>\n",
       "      <td>70.0</td>\n",
       "      <td>No Sale</td>\n",
       "      <td>Other Refusal / Not Interested</td>\n",
       "      <td>22.0</td>\n",
       "      <td>2.0</td>\n",
       "      <td>12.0</td>\n",
       "      <td>5.0</td>\n",
       "    </tr>\n",
       "    <tr>\n",
       "      <th>1</th>\n",
       "      <td>3044121</td>\n",
       "      <td>749</td>\n",
       "      <td>2018-07-02 13:42:18.623</td>\n",
       "      <td>2018070213</td>\n",
       "      <td>Outbound Agent Callback</td>\n",
       "      <td>Agent Call Back</td>\n",
       "      <td>Customer interested</td>\n",
       "      <td>4</td>\n",
       "      <td>111</td>\n",
       "      <td>2018-07-02 13:44:09.727</td>\n",
       "      <td>2018070213</td>\n",
       "      <td>CB</td>\n",
       "      <td>2018-02-23 08:52:00</td>\n",
       "      <td>2018022308</td>\n",
       "      <td>OB</td>\n",
       "      <td>61 - 70</td>\n",
       "      <td>M</td>\n",
       "      <td>70.0</td>\n",
       "      <td>No Sale</td>\n",
       "      <td>Other Refusal / Not Interested</td>\n",
       "      <td>22.0</td>\n",
       "      <td>2.0</td>\n",
       "      <td>12.0</td>\n",
       "      <td>5.0</td>\n",
       "    </tr>\n",
       "    <tr>\n",
       "      <th>2</th>\n",
       "      <td>3044121</td>\n",
       "      <td>749</td>\n",
       "      <td>2018-02-26 14:39:03.527</td>\n",
       "      <td>2018022614</td>\n",
       "      <td>Outbound</td>\n",
       "      <td>Agent Call Back</td>\n",
       "      <td>Customer interested</td>\n",
       "      <td>2</td>\n",
       "      <td>291</td>\n",
       "      <td>2018-02-26 14:43:54.327</td>\n",
       "      <td>2018022614</td>\n",
       "      <td>CB</td>\n",
       "      <td>2018-02-23 08:52:00</td>\n",
       "      <td>2018022308</td>\n",
       "      <td>OB</td>\n",
       "      <td>61 - 70</td>\n",
       "      <td>M</td>\n",
       "      <td>70.0</td>\n",
       "      <td>No Sale</td>\n",
       "      <td>Other Refusal / Not Interested</td>\n",
       "      <td>22.0</td>\n",
       "      <td>2.0</td>\n",
       "      <td>12.0</td>\n",
       "      <td>5.0</td>\n",
       "    </tr>\n",
       "    <tr>\n",
       "      <th>3</th>\n",
       "      <td>3044121</td>\n",
       "      <td>705</td>\n",
       "      <td>2018-02-23 10:06:04.343</td>\n",
       "      <td>2018022310</td>\n",
       "      <td>Outbound</td>\n",
       "      <td>Still Workable</td>\n",
       "      <td>Pool callback</td>\n",
       "      <td>1</td>\n",
       "      <td>104</td>\n",
       "      <td>2018-02-23 10:07:48.183</td>\n",
       "      <td>2018022310</td>\n",
       "      <td>CB</td>\n",
       "      <td>2018-02-23 08:52:00</td>\n",
       "      <td>2018022308</td>\n",
       "      <td>OB</td>\n",
       "      <td>61 - 70</td>\n",
       "      <td>M</td>\n",
       "      <td>70.0</td>\n",
       "      <td>No Sale</td>\n",
       "      <td>Other Refusal / Not Interested</td>\n",
       "      <td>22.0</td>\n",
       "      <td>2.0</td>\n",
       "      <td>12.0</td>\n",
       "      <td>5.0</td>\n",
       "    </tr>\n",
       "    <tr>\n",
       "      <th>4</th>\n",
       "      <td>3044121</td>\n",
       "      <td>749</td>\n",
       "      <td>2018-06-01 11:00:28.600</td>\n",
       "      <td>2018060111</td>\n",
       "      <td>Outbound Agent Callback</td>\n",
       "      <td>Agent Call Back</td>\n",
       "      <td>Customer interested</td>\n",
       "      <td>3</td>\n",
       "      <td>919</td>\n",
       "      <td>2018-06-01 11:15:47.473</td>\n",
       "      <td>2018060111</td>\n",
       "      <td>CB</td>\n",
       "      <td>2018-02-23 08:52:00</td>\n",
       "      <td>2018022308</td>\n",
       "      <td>OB</td>\n",
       "      <td>61 - 70</td>\n",
       "      <td>M</td>\n",
       "      <td>70.0</td>\n",
       "      <td>No Sale</td>\n",
       "      <td>Other Refusal / Not Interested</td>\n",
       "      <td>22.0</td>\n",
       "      <td>2.0</td>\n",
       "      <td>12.0</td>\n",
       "      <td>5.0</td>\n",
       "    </tr>\n",
       "  </tbody>\n",
       "</table>\n",
       "</div>"
      ],
      "text/plain": [
       "   dialerLeadId  dimAgentId                callDate  callDateKey  \\\n",
       "0       3044121         749 2018-07-12 17:23:36.630   2018071217   \n",
       "1       3044121         749 2018-07-02 13:42:18.623   2018070213   \n",
       "2       3044121         749 2018-02-26 14:39:03.527   2018022614   \n",
       "3       3044121         705 2018-02-23 10:06:04.343   2018022310   \n",
       "4       3044121         749 2018-06-01 11:00:28.600   2018060111   \n",
       "\n",
       "                  callType       dispoGroup                dispoDescription  \\\n",
       "0                 Outbound          No Sale  Other Refusal / Not Interested   \n",
       "1  Outbound Agent Callback  Agent Call Back             Customer interested   \n",
       "2                 Outbound  Agent Call Back             Customer interested   \n",
       "3                 Outbound   Still Workable                   Pool callback   \n",
       "4  Outbound Agent Callback  Agent Call Back             Customer interested   \n",
       "\n",
       "   callAttemptNumber  handleTimeSeconds             callEndDate  \\\n",
       "0                  5                101 2018-07-12 17:25:17.337   \n",
       "1                  4                111 2018-07-02 13:44:09.727   \n",
       "2                  2                291 2018-02-26 14:43:54.327   \n",
       "3                  1                104 2018-02-23 10:07:48.183   \n",
       "4                  3                919 2018-06-01 11:15:47.473   \n",
       "\n",
       "   callEndDateKey nobleDispoCode            leadDate  leadDateKey  \\\n",
       "0      2018071217             NS 2018-02-23 08:52:00   2018022308   \n",
       "1      2018070213             CB 2018-02-23 08:52:00   2018022308   \n",
       "2      2018022614             CB 2018-02-23 08:52:00   2018022308   \n",
       "3      2018022310             CB 2018-02-23 08:52:00   2018022308   \n",
       "4      2018060111             CB 2018-02-23 08:52:00   2018022308   \n",
       "\n",
       "  originalContactType ageOnLeadGroup gender  leadCost  \\\n",
       "0                  OB        61 - 70      M      70.0   \n",
       "1                  OB        61 - 70      M      70.0   \n",
       "2                  OB        61 - 70      M      70.0   \n",
       "3                  OB        61 - 70      M      70.0   \n",
       "4                  OB        61 - 70      M      70.0   \n",
       "\n",
       "  callCenterLatestDispoGroup callCenterLatestDispoDescription  currentSkill  \\\n",
       "0                    No Sale   Other Refusal / Not Interested          22.0   \n",
       "1                    No Sale   Other Refusal / Not Interested          22.0   \n",
       "2                    No Sale   Other Refusal / Not Interested          22.0   \n",
       "3                    No Sale   Other Refusal / Not Interested          22.0   \n",
       "4                    No Sale   Other Refusal / Not Interested          22.0   \n",
       "\n",
       "   originalSkill  maxAttempts  dailyMaxAttempts  \n",
       "0            2.0         12.0               5.0  \n",
       "1            2.0         12.0               5.0  \n",
       "2            2.0         12.0               5.0  \n",
       "3            2.0         12.0               5.0  \n",
       "4            2.0         12.0               5.0  "
      ]
     },
     "execution_count": 19,
     "metadata": {},
     "output_type": "execute_result"
    }
   ],
   "source": [
    "merged_nosales.head()"
   ]
  },
  {
   "cell_type": "code",
   "execution_count": 20,
   "metadata": {},
   "outputs": [],
   "source": [
    "# Grouping leadid to get handleTimeSeconds to get top 10 leadIds having maximum time invested and still nosales.\n",
    "\n",
    "leadid_groupby= merged_nosales[['dialerLeadId', 'handleTimeSeconds']]\n",
    "leadid_groupby = leadid_groupby.groupby(['dialerLeadId']).mean()\n",
    "leadid_groupby= leadid_groupby.sort_values(by= 'handleTimeSeconds', ascending= False).head(10)"
   ]
  },
  {
   "cell_type": "code",
   "execution_count": 21,
   "metadata": {},
   "outputs": [
    {
     "data": {
      "image/png": "[encoded data removed]",
      "text/plain": [
       "<Figure size 720x576 with 1 Axes>"
      ]
     },
     "metadata": {},
     "output_type": "display_data"
    }
   ],
   "source": [
    "n_groups = 10\n",
    "\n",
    "mean_time = leadid_groupby['handleTimeSeconds']\n",
    "\n",
    "fig, ax = plt.subplots()\n",
    "\n",
    "index = np.arange(n_groups)\n",
    "bar_width = 0.35\n",
    "\n",
    "opacity = 0.4\n",
    "error_config = {'ecolor': '0.3'}\n",
    "\n",
    "rects1 = ax.bar(index, mean_time, bar_width,\n",
    "                alpha=opacity, color='r',\n",
    "                label='Mean Time in seconds')\n",
    "\n",
    "ax.set_xlabel('Region')\n",
    "ax.set_ylabel('Mean Time in Seconds')\n",
    "ax.set_title('Mean Time by Lead ID')\n",
    "ax.set_xticks(index + bar_width / 2)\n",
    "ax.set_xticklabels((leadid_groupby.T.columns))\n",
    "ax.legend()\n",
    "\n",
    "fig.tight_layout()\n",
    "\n",
    "fig_size = plt.rcParams[\"figure.figsize\"]\n",
    "fig_size[0] = 10\n",
    "fig_size[1] = 8\n",
    "plt.rcParams[\"figure.figsize\"] = fig_size\n",
    "\n",
    "plt.show()"
   ]
  },
  {
   "cell_type": "markdown",
   "metadata": {},
   "source": [
    "## Join and Split Data"
   ]
  },
  {
   "cell_type": "markdown",
   "metadata": {},
   "source": [
    "Joining 2 data sheets on the 'dialerLeadId' column to further analyse and model the data. Implementing a left join."
   ]
  },
  {
   "cell_type": "code",
   "execution_count": 22,
   "metadata": {},
   "outputs": [],
   "source": [
    "compressed_join= df_call.merge(df_leads, how= 'left', on= 'dialerLeadId')"
   ]
  },
  {
   "cell_type": "code",
   "execution_count": 23,
   "metadata": {},
   "outputs": [
    {
     "data": {
      "text/html": [
       "<div>\n",
       "<style scoped>\n",
       "    .dataframe tbody tr th:only-of-type {\n",
       "        vertical-align: middle;\n",
       "    }\n",
       "\n",
       "    .dataframe tbody tr th {\n",
       "        vertical-align: top;\n",
       "    }\n",
       "\n",
       "    .dataframe thead th {\n",
       "        text-align: right;\n",
       "    }\n",
       "</style>\n",
       "<table border=\"1\" class=\"dataframe\">\n",
       "  <thead>\n",
       "    <tr style=\"text-align: right;\">\n",
       "      <th></th>\n",
       "      <th>dialerLeadId</th>\n",
       "      <th>dimAgentId</th>\n",
       "      <th>callDate</th>\n",
       "      <th>callDateKey</th>\n",
       "      <th>callType</th>\n",
       "      <th>dispoGroup</th>\n",
       "      <th>dispoDescription</th>\n",
       "      <th>callAttemptNumber</th>\n",
       "      <th>handleTimeSeconds</th>\n",
       "      <th>callEndDate</th>\n",
       "      <th>callEndDateKey</th>\n",
       "      <th>nobleDispoCode</th>\n",
       "      <th>leadDate</th>\n",
       "      <th>leadDateKey</th>\n",
       "      <th>originalContactType</th>\n",
       "      <th>ageOnLeadGroup</th>\n",
       "      <th>gender</th>\n",
       "      <th>leadCost</th>\n",
       "      <th>callCenterLatestDispoGroup</th>\n",
       "      <th>callCenterLatestDispoDescription</th>\n",
       "      <th>currentSkill</th>\n",
       "      <th>originalSkill</th>\n",
       "      <th>maxAttempts</th>\n",
       "      <th>dailyMaxAttempts</th>\n",
       "    </tr>\n",
       "  </thead>\n",
       "  <tbody>\n",
       "    <tr>\n",
       "      <th>0</th>\n",
       "      <td>3044121</td>\n",
       "      <td>749</td>\n",
       "      <td>2018-07-12 17:23:36.630</td>\n",
       "      <td>2018071217</td>\n",
       "      <td>Outbound</td>\n",
       "      <td>No Sale</td>\n",
       "      <td>Other Refusal / Not Interested</td>\n",
       "      <td>5</td>\n",
       "      <td>101</td>\n",
       "      <td>2018-07-12 17:25:17.337</td>\n",
       "      <td>2018071217</td>\n",
       "      <td>NS</td>\n",
       "      <td>2018-02-23 08:52:00.000</td>\n",
       "      <td>2018022308</td>\n",
       "      <td>OB</td>\n",
       "      <td>61 - 70</td>\n",
       "      <td>M</td>\n",
       "      <td>70.00</td>\n",
       "      <td>No Sale</td>\n",
       "      <td>Other Refusal / Not Interested</td>\n",
       "      <td>22.0</td>\n",
       "      <td>2.0</td>\n",
       "      <td>12.0</td>\n",
       "      <td>5.0</td>\n",
       "    </tr>\n",
       "    <tr>\n",
       "      <th>1</th>\n",
       "      <td>3021053</td>\n",
       "      <td>737</td>\n",
       "      <td>2018-07-16 11:28:26.143</td>\n",
       "      <td>2018071611</td>\n",
       "      <td>Inbound</td>\n",
       "      <td>No Sale</td>\n",
       "      <td>Inquiry / Support Call</td>\n",
       "      <td>3</td>\n",
       "      <td>112</td>\n",
       "      <td>2018-07-16 11:30:18.340</td>\n",
       "      <td>2018071611</td>\n",
       "      <td>NS</td>\n",
       "      <td>2018-02-21 12:12:19.251</td>\n",
       "      <td>2018022112</td>\n",
       "      <td>IB</td>\n",
       "      <td>61 - 70</td>\n",
       "      <td>M</td>\n",
       "      <td>NaN</td>\n",
       "      <td>No Sale</td>\n",
       "      <td>Inquiry / Support Call</td>\n",
       "      <td>21.0</td>\n",
       "      <td>NaN</td>\n",
       "      <td>NaN</td>\n",
       "      <td>NaN</td>\n",
       "    </tr>\n",
       "    <tr>\n",
       "      <th>2</th>\n",
       "      <td>3356059</td>\n",
       "      <td>1142</td>\n",
       "      <td>2018-07-16 11:40:35.770</td>\n",
       "      <td>2018071611</td>\n",
       "      <td>Outbound</td>\n",
       "      <td>Non Workable</td>\n",
       "      <td>Disconnected Number</td>\n",
       "      <td>4</td>\n",
       "      <td>9</td>\n",
       "      <td>2018-07-16 11:40:44.323</td>\n",
       "      <td>2018071611</td>\n",
       "      <td>DC</td>\n",
       "      <td>2018-03-23 16:01:08.000</td>\n",
       "      <td>2018032316</td>\n",
       "      <td>OB</td>\n",
       "      <td>61 - 70</td>\n",
       "      <td>M</td>\n",
       "      <td>NaN</td>\n",
       "      <td>Non Workable</td>\n",
       "      <td>Disconnected Number</td>\n",
       "      <td>22.0</td>\n",
       "      <td>2.0</td>\n",
       "      <td>12.0</td>\n",
       "      <td>5.0</td>\n",
       "    </tr>\n",
       "    <tr>\n",
       "      <th>3</th>\n",
       "      <td>3021053</td>\n",
       "      <td>731</td>\n",
       "      <td>2018-07-16 11:44:22.557</td>\n",
       "      <td>2018071611</td>\n",
       "      <td>Manual Dial</td>\n",
       "      <td>No Sale</td>\n",
       "      <td>Inquiry / Support Call</td>\n",
       "      <td>4</td>\n",
       "      <td>303</td>\n",
       "      <td>2018-07-16 11:49:25.313</td>\n",
       "      <td>2018071611</td>\n",
       "      <td>NS</td>\n",
       "      <td>2018-02-21 12:12:19.251</td>\n",
       "      <td>2018022112</td>\n",
       "      <td>IB</td>\n",
       "      <td>61 - 70</td>\n",
       "      <td>M</td>\n",
       "      <td>NaN</td>\n",
       "      <td>No Sale</td>\n",
       "      <td>Inquiry / Support Call</td>\n",
       "      <td>21.0</td>\n",
       "      <td>NaN</td>\n",
       "      <td>NaN</td>\n",
       "      <td>NaN</td>\n",
       "    </tr>\n",
       "    <tr>\n",
       "      <th>4</th>\n",
       "      <td>3185345</td>\n",
       "      <td>987</td>\n",
       "      <td>2018-07-16 11:48:39.603</td>\n",
       "      <td>2018071611</td>\n",
       "      <td>Outbound</td>\n",
       "      <td>Still Workable</td>\n",
       "      <td>Left Message</td>\n",
       "      <td>3</td>\n",
       "      <td>86</td>\n",
       "      <td>2018-07-16 11:50:05.153</td>\n",
       "      <td>2018071611</td>\n",
       "      <td>LM</td>\n",
       "      <td>2018-03-07 11:40:50.442</td>\n",
       "      <td>2018030711</td>\n",
       "      <td>OB</td>\n",
       "      <td>61 - 70</td>\n",
       "      <td>M</td>\n",
       "      <td>20.54</td>\n",
       "      <td>Still Workable</td>\n",
       "      <td>Left Message</td>\n",
       "      <td>22.0</td>\n",
       "      <td>2.0</td>\n",
       "      <td>12.0</td>\n",
       "      <td>5.0</td>\n",
       "    </tr>\n",
       "    <tr>\n",
       "      <th>5</th>\n",
       "      <td>3001731</td>\n",
       "      <td>737</td>\n",
       "      <td>2018-07-16 13:30:44.837</td>\n",
       "      <td>2018071613</td>\n",
       "      <td>Inbound</td>\n",
       "      <td>No Sale</td>\n",
       "      <td>Inquiry / Support Call</td>\n",
       "      <td>3</td>\n",
       "      <td>117</td>\n",
       "      <td>2018-07-16 13:32:41.570</td>\n",
       "      <td>2018071613</td>\n",
       "      <td>NS</td>\n",
       "      <td>2018-02-20 03:00:45.000</td>\n",
       "      <td>2018022003</td>\n",
       "      <td>OB</td>\n",
       "      <td>61 - 70</td>\n",
       "      <td>F</td>\n",
       "      <td>50.00</td>\n",
       "      <td>No Sale</td>\n",
       "      <td>Inquiry / Support Call</td>\n",
       "      <td>22.0</td>\n",
       "      <td>2.0</td>\n",
       "      <td>12.0</td>\n",
       "      <td>5.0</td>\n",
       "    </tr>\n",
       "    <tr>\n",
       "      <th>6</th>\n",
       "      <td>3231700</td>\n",
       "      <td>746</td>\n",
       "      <td>2018-07-16 18:32:52.063</td>\n",
       "      <td>2018071618</td>\n",
       "      <td>Outbound Agent Callback</td>\n",
       "      <td>No Sale</td>\n",
       "      <td>Other Refusal / Not Interested</td>\n",
       "      <td>4</td>\n",
       "      <td>138</td>\n",
       "      <td>2018-07-16 18:35:10.900</td>\n",
       "      <td>2018071618</td>\n",
       "      <td>NS</td>\n",
       "      <td>2018-03-12 14:57:10.920</td>\n",
       "      <td>2018031214</td>\n",
       "      <td>OB</td>\n",
       "      <td>61 - 70</td>\n",
       "      <td>M</td>\n",
       "      <td>50.00</td>\n",
       "      <td>No Sale</td>\n",
       "      <td>Other Refusal / Not Interested</td>\n",
       "      <td>22.0</td>\n",
       "      <td>2.0</td>\n",
       "      <td>12.0</td>\n",
       "      <td>5.0</td>\n",
       "    </tr>\n",
       "    <tr>\n",
       "      <th>7</th>\n",
       "      <td>2536714</td>\n",
       "      <td>735</td>\n",
       "      <td>2018-07-17 10:56:36.503</td>\n",
       "      <td>2018071710</td>\n",
       "      <td>Outbound</td>\n",
       "      <td>Still Workable</td>\n",
       "      <td>Pool callback</td>\n",
       "      <td>7</td>\n",
       "      <td>105</td>\n",
       "      <td>2018-07-17 10:58:21.457</td>\n",
       "      <td>2018071710</td>\n",
       "      <td>CB</td>\n",
       "      <td>2018-01-16 10:33:58.758</td>\n",
       "      <td>2018011610</td>\n",
       "      <td>OB</td>\n",
       "      <td>81 - 90</td>\n",
       "      <td>F</td>\n",
       "      <td>50.00</td>\n",
       "      <td>Still Workable</td>\n",
       "      <td>Pool callback</td>\n",
       "      <td>22.0</td>\n",
       "      <td>2.0</td>\n",
       "      <td>12.0</td>\n",
       "      <td>5.0</td>\n",
       "    </tr>\n",
       "    <tr>\n",
       "      <th>8</th>\n",
       "      <td>3146481</td>\n",
       "      <td>735</td>\n",
       "      <td>2018-07-17 11:03:29.133</td>\n",
       "      <td>2018071711</td>\n",
       "      <td>Manual Dial</td>\n",
       "      <td>No Sale</td>\n",
       "      <td>Inquiry / Support Call</td>\n",
       "      <td>5</td>\n",
       "      <td>943</td>\n",
       "      <td>2018-07-17 11:19:12.987</td>\n",
       "      <td>2018071711</td>\n",
       "      <td>NS</td>\n",
       "      <td>2018-03-06 13:32:47.454</td>\n",
       "      <td>2018030613</td>\n",
       "      <td>OB</td>\n",
       "      <td>71 - 80</td>\n",
       "      <td>F</td>\n",
       "      <td>NaN</td>\n",
       "      <td>No Sale</td>\n",
       "      <td>Inquiry / Support Call</td>\n",
       "      <td>21.0</td>\n",
       "      <td>NaN</td>\n",
       "      <td>NaN</td>\n",
       "      <td>NaN</td>\n",
       "    </tr>\n",
       "    <tr>\n",
       "      <th>9</th>\n",
       "      <td>3097625</td>\n",
       "      <td>749</td>\n",
       "      <td>2018-07-17 17:32:10.663</td>\n",
       "      <td>2018071717</td>\n",
       "      <td>Outbound Agent Callback</td>\n",
       "      <td>No Sale</td>\n",
       "      <td>Other Refusal / Not Interested</td>\n",
       "      <td>3</td>\n",
       "      <td>86</td>\n",
       "      <td>2018-07-17 17:33:36.423</td>\n",
       "      <td>2018071717</td>\n",
       "      <td>NS</td>\n",
       "      <td>2018-02-28 18:34:44.090</td>\n",
       "      <td>2018022818</td>\n",
       "      <td>OB</td>\n",
       "      <td>61 - 70</td>\n",
       "      <td>M</td>\n",
       "      <td>25.00</td>\n",
       "      <td>No Sale</td>\n",
       "      <td>Other Refusal / Not Interested</td>\n",
       "      <td>22.0</td>\n",
       "      <td>2.0</td>\n",
       "      <td>12.0</td>\n",
       "      <td>5.0</td>\n",
       "    </tr>\n",
       "  </tbody>\n",
       "</table>\n",
       "</div>"
      ],
      "text/plain": [
       "   dialerLeadId  dimAgentId                callDate  callDateKey  \\\n",
       "0       3044121         749 2018-07-12 17:23:36.630   2018071217   \n",
       "1       3021053         737 2018-07-16 11:28:26.143   2018071611   \n",
       "2       3356059        1142 2018-07-16 11:40:35.770   2018071611   \n",
       "3       3021053         731 2018-07-16 11:44:22.557   2018071611   \n",
       "4       3185345         987 2018-07-16 11:48:39.603   2018071611   \n",
       "5       3001731         737 2018-07-16 13:30:44.837   2018071613   \n",
       "6       3231700         746 2018-07-16 18:32:52.063   2018071618   \n",
       "7       2536714         735 2018-07-17 10:56:36.503   2018071710   \n",
       "8       3146481         735 2018-07-17 11:03:29.133   2018071711   \n",
       "9       3097625         749 2018-07-17 17:32:10.663   2018071717   \n",
       "\n",
       "                  callType      dispoGroup                dispoDescription  \\\n",
       "0                 Outbound         No Sale  Other Refusal / Not Interested   \n",
       "1                  Inbound         No Sale          Inquiry / Support Call   \n",
       "2                 Outbound    Non Workable             Disconnected Number   \n",
       "3              Manual Dial         No Sale          Inquiry / Support Call   \n",
       "4                 Outbound  Still Workable                    Left Message   \n",
       "5                  Inbound         No Sale          Inquiry / Support Call   \n",
       "6  Outbound Agent Callback         No Sale  Other Refusal / Not Interested   \n",
       "7                 Outbound  Still Workable                   Pool callback   \n",
       "8              Manual Dial         No Sale          Inquiry / Support Call   \n",
       "9  Outbound Agent Callback         No Sale  Other Refusal / Not Interested   \n",
       "\n",
       "   callAttemptNumber  handleTimeSeconds             callEndDate  \\\n",
       "0                  5                101 2018-07-12 17:25:17.337   \n",
       "1                  3                112 2018-07-16 11:30:18.340   \n",
       "2                  4                  9 2018-07-16 11:40:44.323   \n",
       "3                  4                303 2018-07-16 11:49:25.313   \n",
       "4                  3                 86 2018-07-16 11:50:05.153   \n",
       "5                  3                117 2018-07-16 13:32:41.570   \n",
       "6                  4                138 2018-07-16 18:35:10.900   \n",
       "7                  7                105 2018-07-17 10:58:21.457   \n",
       "8                  5                943 2018-07-17 11:19:12.987   \n",
       "9                  3                 86 2018-07-17 17:33:36.423   \n",
       "\n",
       "   callEndDateKey nobleDispoCode                leadDate  leadDateKey  \\\n",
       "0      2018071217             NS 2018-02-23 08:52:00.000   2018022308   \n",
       "1      2018071611             NS 2018-02-21 12:12:19.251   2018022112   \n",
       "2      2018071611             DC 2018-03-23 16:01:08.000   2018032316   \n",
       "3      2018071611             NS 2018-02-21 12:12:19.251   2018022112   \n",
       "4      2018071611             LM 2018-03-07 11:40:50.442   2018030711   \n",
       "5      2018071613             NS 2018-02-20 03:00:45.000   2018022003   \n",
       "6      2018071618             NS 2018-03-12 14:57:10.920   2018031214   \n",
       "7      2018071710             CB 2018-01-16 10:33:58.758   2018011610   \n",
       "8      2018071711             NS 2018-03-06 13:32:47.454   2018030613   \n",
       "9      2018071717             NS 2018-02-28 18:34:44.090   2018022818   \n",
       "\n",
       "  originalContactType ageOnLeadGroup gender  leadCost  \\\n",
       "0                  OB        61 - 70      M     70.00   \n",
       "1                  IB        61 - 70      M       NaN   \n",
       "2                  OB        61 - 70      M       NaN   \n",
       "3                  IB        61 - 70      M       NaN   \n",
       "4                  OB        61 - 70      M     20.54   \n",
       "5                  OB        61 - 70      F     50.00   \n",
       "6                  OB        61 - 70      M     50.00   \n",
       "7                  OB        81 - 90      F     50.00   \n",
       "8                  OB        71 - 80      F       NaN   \n",
       "9                  OB        61 - 70      M     25.00   \n",
       "\n",
       "  callCenterLatestDispoGroup callCenterLatestDispoDescription  currentSkill  \\\n",
       "0                    No Sale   Other Refusal / Not Interested          22.0   \n",
       "1                    No Sale           Inquiry / Support Call          21.0   \n",
       "2               Non Workable              Disconnected Number          22.0   \n",
       "3                    No Sale           Inquiry / Support Call          21.0   \n",
       "4             Still Workable                     Left Message          22.0   \n",
       "5                    No Sale           Inquiry / Support Call          22.0   \n",
       "6                    No Sale   Other Refusal / Not Interested          22.0   \n",
       "7             Still Workable                    Pool callback          22.0   \n",
       "8                    No Sale           Inquiry / Support Call          21.0   \n",
       "9                    No Sale   Other Refusal / Not Interested          22.0   \n",
       "\n",
       "   originalSkill  maxAttempts  dailyMaxAttempts  \n",
       "0            2.0         12.0               5.0  \n",
       "1            NaN          NaN               NaN  \n",
       "2            2.0         12.0               5.0  \n",
       "3            NaN          NaN               NaN  \n",
       "4            2.0         12.0               5.0  \n",
       "5            2.0         12.0               5.0  \n",
       "6            2.0         12.0               5.0  \n",
       "7            2.0         12.0               5.0  \n",
       "8            NaN          NaN               NaN  \n",
       "9            2.0         12.0               5.0  "
      ]
     },
     "execution_count": 23,
     "metadata": {},
     "output_type": "execute_result"
    }
   ],
   "source": [
    "compressed_join.head(10)"
   ]
  },
  {
   "cell_type": "code",
   "execution_count": 24,
   "metadata": {
    "scrolled": true
   },
   "outputs": [
    {
     "name": "stdout",
     "output_type": "stream",
     "text": [
      "Still Workable        107480\n",
      "No Sale                11470\n",
      "Agent Call Back         4514\n",
      "Non Workable            3414\n",
      "Transfer Call           2761\n",
      "Sale                    1648\n",
      "System disposition       650\n",
      "Do Not Call              200\n",
      "System Disposition        25\n",
      "Name: dispoGroup, dtype: int64\n"
     ]
    }
   ],
   "source": [
    "#Here, checking for counts and unique values in dispoGroup column\n",
    "\n",
    "print(compressed_join.dispoGroup.value_counts())"
   ]
  },
  {
   "cell_type": "code",
   "execution_count": 25,
   "metadata": {},
   "outputs": [],
   "source": [
    "# We can see for above step that same values has 2 different names. Changing the name.\n",
    "\n",
    "compressed_join.loc[(compressed_join.dispoGroup == 'System disposition'),'dispoGroup']='System Disposition'"
   ]
  },
  {
   "cell_type": "markdown",
   "metadata": {},
   "source": [
    "<b>Now, for further processing and data modelling I have considered the dispoGroup column as my target variable and other columns as independent variable. To do this, I have created 3 categories namely, Sale, No Sale and Still Workable. \n",
    "\n",
    "I have grouped Agent Call Back, Transfer Call as Still workable category, and System disposition, DO not Call, Non Workable as No sale category. </b>"
   ]
  },
  {
   "cell_type": "code",
   "execution_count": 26,
   "metadata": {},
   "outputs": [],
   "source": [
    "compressed_join.loc[(compressed_join.dispoGroup == 'Agent Call Back'),'dispoGroup']='Still Workable'\n",
    "compressed_join.loc[(compressed_join.dispoGroup == 'Transfer Call'),'dispoGroup']='Still Workable'\n",
    "\n",
    "compressed_join.loc[(compressed_join.dispoGroup == 'System Disposition'),'dispoGroup']='No Sale'\n",
    "compressed_join.loc[(compressed_join.dispoGroup == 'Do Not Call'),'dispoGroup']='No Sale'\n",
    "compressed_join.loc[(compressed_join.dispoGroup == 'Non Workable'),'dispoGroup']='No Sale'\n"
   ]
  },
  {
   "cell_type": "code",
   "execution_count": 27,
   "metadata": {
    "scrolled": true
   },
   "outputs": [
    {
     "data": {
      "text/html": [
       "<div>\n",
       "<style scoped>\n",
       "    .dataframe tbody tr th:only-of-type {\n",
       "        vertical-align: middle;\n",
       "    }\n",
       "\n",
       "    .dataframe tbody tr th {\n",
       "        vertical-align: top;\n",
       "    }\n",
       "\n",
       "    .dataframe thead th {\n",
       "        text-align: right;\n",
       "    }\n",
       "</style>\n",
       "<table border=\"1\" class=\"dataframe\">\n",
       "  <thead>\n",
       "    <tr style=\"text-align: right;\">\n",
       "      <th></th>\n",
       "      <th>dialerLeadId</th>\n",
       "      <th>dimAgentId</th>\n",
       "      <th>callDate</th>\n",
       "      <th>callDateKey</th>\n",
       "      <th>callType</th>\n",
       "      <th>dispoGroup</th>\n",
       "      <th>dispoDescription</th>\n",
       "      <th>callAttemptNumber</th>\n",
       "      <th>handleTimeSeconds</th>\n",
       "      <th>callEndDate</th>\n",
       "      <th>callEndDateKey</th>\n",
       "      <th>nobleDispoCode</th>\n",
       "      <th>leadDate</th>\n",
       "      <th>leadDateKey</th>\n",
       "      <th>originalContactType</th>\n",
       "      <th>ageOnLeadGroup</th>\n",
       "      <th>gender</th>\n",
       "      <th>leadCost</th>\n",
       "      <th>callCenterLatestDispoGroup</th>\n",
       "      <th>callCenterLatestDispoDescription</th>\n",
       "      <th>currentSkill</th>\n",
       "      <th>originalSkill</th>\n",
       "      <th>maxAttempts</th>\n",
       "      <th>dailyMaxAttempts</th>\n",
       "    </tr>\n",
       "  </thead>\n",
       "  <tbody>\n",
       "    <tr>\n",
       "      <th>0</th>\n",
       "      <td>3044121</td>\n",
       "      <td>749</td>\n",
       "      <td>2018-07-12 17:23:36.630</td>\n",
       "      <td>2018071217</td>\n",
       "      <td>Outbound</td>\n",
       "      <td>No Sale</td>\n",
       "      <td>Other Refusal / Not Interested</td>\n",
       "      <td>5</td>\n",
       "      <td>101</td>\n",
       "      <td>2018-07-12 17:25:17.337</td>\n",
       "      <td>2018071217</td>\n",
       "      <td>NS</td>\n",
       "      <td>2018-02-23 08:52:00.000</td>\n",
       "      <td>2018022308</td>\n",
       "      <td>OB</td>\n",
       "      <td>61 - 70</td>\n",
       "      <td>M</td>\n",
       "      <td>70.00</td>\n",
       "      <td>No Sale</td>\n",
       "      <td>Other Refusal / Not Interested</td>\n",
       "      <td>22.0</td>\n",
       "      <td>2.0</td>\n",
       "      <td>12.0</td>\n",
       "      <td>5.0</td>\n",
       "    </tr>\n",
       "    <tr>\n",
       "      <th>1</th>\n",
       "      <td>3021053</td>\n",
       "      <td>737</td>\n",
       "      <td>2018-07-16 11:28:26.143</td>\n",
       "      <td>2018071611</td>\n",
       "      <td>Inbound</td>\n",
       "      <td>No Sale</td>\n",
       "      <td>Inquiry / Support Call</td>\n",
       "      <td>3</td>\n",
       "      <td>112</td>\n",
       "      <td>2018-07-16 11:30:18.340</td>\n",
       "      <td>2018071611</td>\n",
       "      <td>NS</td>\n",
       "      <td>2018-02-21 12:12:19.251</td>\n",
       "      <td>2018022112</td>\n",
       "      <td>IB</td>\n",
       "      <td>61 - 70</td>\n",
       "      <td>M</td>\n",
       "      <td>NaN</td>\n",
       "      <td>No Sale</td>\n",
       "      <td>Inquiry / Support Call</td>\n",
       "      <td>21.0</td>\n",
       "      <td>NaN</td>\n",
       "      <td>NaN</td>\n",
       "      <td>NaN</td>\n",
       "    </tr>\n",
       "    <tr>\n",
       "      <th>2</th>\n",
       "      <td>3356059</td>\n",
       "      <td>1142</td>\n",
       "      <td>2018-07-16 11:40:35.770</td>\n",
       "      <td>2018071611</td>\n",
       "      <td>Outbound</td>\n",
       "      <td>No Sale</td>\n",
       "      <td>Disconnected Number</td>\n",
       "      <td>4</td>\n",
       "      <td>9</td>\n",
       "      <td>2018-07-16 11:40:44.323</td>\n",
       "      <td>2018071611</td>\n",
       "      <td>DC</td>\n",
       "      <td>2018-03-23 16:01:08.000</td>\n",
       "      <td>2018032316</td>\n",
       "      <td>OB</td>\n",
       "      <td>61 - 70</td>\n",
       "      <td>M</td>\n",
       "      <td>NaN</td>\n",
       "      <td>Non Workable</td>\n",
       "      <td>Disconnected Number</td>\n",
       "      <td>22.0</td>\n",
       "      <td>2.0</td>\n",
       "      <td>12.0</td>\n",
       "      <td>5.0</td>\n",
       "    </tr>\n",
       "    <tr>\n",
       "      <th>3</th>\n",
       "      <td>3021053</td>\n",
       "      <td>731</td>\n",
       "      <td>2018-07-16 11:44:22.557</td>\n",
       "      <td>2018071611</td>\n",
       "      <td>Manual Dial</td>\n",
       "      <td>No Sale</td>\n",
       "      <td>Inquiry / Support Call</td>\n",
       "      <td>4</td>\n",
       "      <td>303</td>\n",
       "      <td>2018-07-16 11:49:25.313</td>\n",
       "      <td>2018071611</td>\n",
       "      <td>NS</td>\n",
       "      <td>2018-02-21 12:12:19.251</td>\n",
       "      <td>2018022112</td>\n",
       "      <td>IB</td>\n",
       "      <td>61 - 70</td>\n",
       "      <td>M</td>\n",
       "      <td>NaN</td>\n",
       "      <td>No Sale</td>\n",
       "      <td>Inquiry / Support Call</td>\n",
       "      <td>21.0</td>\n",
       "      <td>NaN</td>\n",
       "      <td>NaN</td>\n",
       "      <td>NaN</td>\n",
       "    </tr>\n",
       "    <tr>\n",
       "      <th>4</th>\n",
       "      <td>3185345</td>\n",
       "      <td>987</td>\n",
       "      <td>2018-07-16 11:48:39.603</td>\n",
       "      <td>2018071611</td>\n",
       "      <td>Outbound</td>\n",
       "      <td>Still Workable</td>\n",
       "      <td>Left Message</td>\n",
       "      <td>3</td>\n",
       "      <td>86</td>\n",
       "      <td>2018-07-16 11:50:05.153</td>\n",
       "      <td>2018071611</td>\n",
       "      <td>LM</td>\n",
       "      <td>2018-03-07 11:40:50.442</td>\n",
       "      <td>2018030711</td>\n",
       "      <td>OB</td>\n",
       "      <td>61 - 70</td>\n",
       "      <td>M</td>\n",
       "      <td>20.54</td>\n",
       "      <td>Still Workable</td>\n",
       "      <td>Left Message</td>\n",
       "      <td>22.0</td>\n",
       "      <td>2.0</td>\n",
       "      <td>12.0</td>\n",
       "      <td>5.0</td>\n",
       "    </tr>\n",
       "  </tbody>\n",
       "</table>\n",
       "</div>"
      ],
      "text/plain": [
       "   dialerLeadId  dimAgentId                callDate  callDateKey     callType  \\\n",
       "0       3044121         749 2018-07-12 17:23:36.630   2018071217     Outbound   \n",
       "1       3021053         737 2018-07-16 11:28:26.143   2018071611      Inbound   \n",
       "2       3356059        1142 2018-07-16 11:40:35.770   2018071611     Outbound   \n",
       "3       3021053         731 2018-07-16 11:44:22.557   2018071611  Manual Dial   \n",
       "4       3185345         987 2018-07-16 11:48:39.603   2018071611     Outbound   \n",
       "\n",
       "       dispoGroup                dispoDescription  callAttemptNumber  \\\n",
       "0         No Sale  Other Refusal / Not Interested                  5   \n",
       "1         No Sale          Inquiry / Support Call                  3   \n",
       "2         No Sale             Disconnected Number                  4   \n",
       "3         No Sale          Inquiry / Support Call                  4   \n",
       "4  Still Workable                    Left Message                  3   \n",
       "\n",
       "   handleTimeSeconds             callEndDate  callEndDateKey nobleDispoCode  \\\n",
       "0                101 2018-07-12 17:25:17.337      2018071217             NS   \n",
       "1                112 2018-07-16 11:30:18.340      2018071611             NS   \n",
       "2                  9 2018-07-16 11:40:44.323      2018071611             DC   \n",
       "3                303 2018-07-16 11:49:25.313      2018071611             NS   \n",
       "4                 86 2018-07-16 11:50:05.153      2018071611             LM   \n",
       "\n",
       "                 leadDate  leadDateKey originalContactType ageOnLeadGroup  \\\n",
       "0 2018-02-23 08:52:00.000   2018022308                  OB        61 - 70   \n",
       "1 2018-02-21 12:12:19.251   2018022112                  IB        61 - 70   \n",
       "2 2018-03-23 16:01:08.000   2018032316                  OB        61 - 70   \n",
       "3 2018-02-21 12:12:19.251   2018022112                  IB        61 - 70   \n",
       "4 2018-03-07 11:40:50.442   2018030711                  OB        61 - 70   \n",
       "\n",
       "  gender  leadCost callCenterLatestDispoGroup  \\\n",
       "0      M     70.00                    No Sale   \n",
       "1      M       NaN                    No Sale   \n",
       "2      M       NaN               Non Workable   \n",
       "3      M       NaN                    No Sale   \n",
       "4      M     20.54             Still Workable   \n",
       "\n",
       "  callCenterLatestDispoDescription  currentSkill  originalSkill  maxAttempts  \\\n",
       "0   Other Refusal / Not Interested          22.0            2.0         12.0   \n",
       "1           Inquiry / Support Call          21.0            NaN          NaN   \n",
       "2              Disconnected Number          22.0            2.0         12.0   \n",
       "3           Inquiry / Support Call          21.0            NaN          NaN   \n",
       "4                     Left Message          22.0            2.0         12.0   \n",
       "\n",
       "   dailyMaxAttempts  \n",
       "0               5.0  \n",
       "1               NaN  \n",
       "2               5.0  \n",
       "3               NaN  \n",
       "4               5.0  "
      ]
     },
     "execution_count": 27,
     "metadata": {},
     "output_type": "execute_result"
    }
   ],
   "source": [
    "compressed_join.head()"
   ]
  },
  {
   "cell_type": "markdown",
   "metadata": {},
   "source": [
    "### Train Data"
   ]
  },
  {
   "cell_type": "markdown",
   "metadata": {},
   "source": [
    "Further, cleaning and preprocessing data for better results. From the above categories:\n",
    "\n",
    "Train Data= Sale, No Sale\n",
    "\n",
    "Test Data: Still Workable "
   ]
  },
  {
   "cell_type": "code",
   "execution_count": 28,
   "metadata": {
    "scrolled": true
   },
   "outputs": [],
   "source": [
    "#Considering Sale and No Sale data for trainning and validating purpose.\n",
    "modelling_data= compressed_join.loc[(compressed_join['dispoGroup']== 'Sale')]\n",
    "modelling_data= modelling_data.append(compressed_join.loc[(compressed_join['dispoGroup']== 'No Sale')])"
   ]
  },
  {
   "cell_type": "code",
   "execution_count": 29,
   "metadata": {},
   "outputs": [],
   "source": [
    "# Dropping some of the columns having more Null values,Ids, Codes.\n",
    "\n",
    "columns=['callCenterLatestDispoDescription','maxAttempts', 'leadCost','leadDate', 'callDate',\n",
    "                                            'dispoDescription', 'callEndDate', 'nobleDispoCode', 'callCenterLatestDispoGroup',\n",
    "                                            'dialerLeadId', 'dimAgentId','callDateKey','callEndDateKey', 'leadDateKey',\n",
    "                                            ]\n",
    "\n",
    "modelling_data= modelling_data.drop(columns= columns, axis= 1)"
   ]
  },
  {
   "cell_type": "code",
   "execution_count": 30,
   "metadata": {
    "scrolled": false
   },
   "outputs": [
    {
     "name": "stdout",
     "output_type": "stream",
     "text": [
      "callType                object\n",
      "dispoGroup              object\n",
      "callAttemptNumber        int64\n",
      "handleTimeSeconds        int64\n",
      "originalContactType     object\n",
      "ageOnLeadGroup          object\n",
      "gender                  object\n",
      "currentSkill           float64\n",
      "originalSkill          float64\n",
      "dailyMaxAttempts       float64\n",
      "dtype: object\n"
     ]
    }
   ],
   "source": [
    "# Checking datatypes of the above created dataframe\n",
    "print(modelling_data.dtypes)"
   ]
  },
  {
   "cell_type": "code",
   "execution_count": 31,
   "metadata": {
    "scrolled": false
   },
   "outputs": [
    {
     "name": "stderr",
     "output_type": "stream",
     "text": [
      "d:\\software\\python3\\lib\\site-packages\\ipykernel_launcher.py:3: SettingWithCopyWarning: \n",
      "A value is trying to be set on a copy of a slice from a DataFrame\n",
      "\n",
      "See the caveats in the documentation: http://pandas.pydata.org/pandas-docs/stable/indexing.html#indexing-view-versus-copy\n",
      "  This is separate from the ipykernel package so we can avoid doing imports until\n",
      "d:\\software\\python3\\lib\\site-packages\\ipykernel_launcher.py:4: SettingWithCopyWarning: \n",
      "A value is trying to be set on a copy of a slice from a DataFrame\n",
      "\n",
      "See the caveats in the documentation: http://pandas.pydata.org/pandas-docs/stable/indexing.html#indexing-view-versus-copy\n",
      "  after removing the cwd from sys.path.\n"
     ]
    }
   ],
   "source": [
    "# converting Target variable (dispoGroup) to binary data (1/0) and changing object data types to integer.\n",
    "\n",
    "modelling_data.dispoGroup[modelling_data.dispoGroup == 'Sale'] = 1\n",
    "modelling_data.dispoGroup[modelling_data.dispoGroup == 'No Sale'] = 0"
   ]
  },
  {
   "cell_type": "code",
   "execution_count": 32,
   "metadata": {
    "scrolled": true
   },
   "outputs": [],
   "source": [
    "#Fucntion to create dummy variables to call for train and test data.\n",
    "def dummy(data):\n",
    "    data = pd.get_dummies(data, columns=[ 'callType', 'originalContactType','ageOnLeadGroup', 'gender'], drop_first= True)\n",
    "    return data"
   ]
  },
  {
   "cell_type": "code",
   "execution_count": 33,
   "metadata": {},
   "outputs": [],
   "source": [
    "# Creating dummy for the train data columns.\n",
    "modelling_data= dummy(modelling_data)"
   ]
  },
  {
   "cell_type": "code",
   "execution_count": 34,
   "metadata": {},
   "outputs": [],
   "source": [
    "#Dropping the dummy variable which has negligible values.\n",
    "modelling_data= modelling_data.drop(columns= 'ageOnLeadGroup_Under 20', axis= 1)"
   ]
  },
  {
   "cell_type": "code",
   "execution_count": 35,
   "metadata": {},
   "outputs": [],
   "source": [
    "# Changing datatype for target variable.\n",
    "modelling_data.dispoGroup= modelling_data.dispoGroup.astype('int64')"
   ]
  },
  {
   "cell_type": "code",
   "execution_count": 36,
   "metadata": {
    "scrolled": true
   },
   "outputs": [
    {
     "data": {
      "text/html": [
       "<div>\n",
       "<style scoped>\n",
       "    .dataframe tbody tr th:only-of-type {\n",
       "        vertical-align: middle;\n",
       "    }\n",
       "\n",
       "    .dataframe tbody tr th {\n",
       "        vertical-align: top;\n",
       "    }\n",
       "\n",
       "    .dataframe thead th {\n",
       "        text-align: right;\n",
       "    }\n",
       "</style>\n",
       "<table border=\"1\" class=\"dataframe\">\n",
       "  <thead>\n",
       "    <tr style=\"text-align: right;\">\n",
       "      <th></th>\n",
       "      <th>dispoGroup</th>\n",
       "      <th>callAttemptNumber</th>\n",
       "      <th>handleTimeSeconds</th>\n",
       "      <th>currentSkill</th>\n",
       "      <th>originalSkill</th>\n",
       "      <th>dailyMaxAttempts</th>\n",
       "      <th>callType_Manual Dial</th>\n",
       "      <th>callType_Outbound</th>\n",
       "      <th>callType_Outbound Agent Callback</th>\n",
       "      <th>callType_Voicemail</th>\n",
       "      <th>originalContactType_OB</th>\n",
       "      <th>ageOnLeadGroup_31 - 40</th>\n",
       "      <th>ageOnLeadGroup_41 - 50</th>\n",
       "      <th>ageOnLeadGroup_51 - 60</th>\n",
       "      <th>ageOnLeadGroup_61 - 70</th>\n",
       "      <th>ageOnLeadGroup_71 - 80</th>\n",
       "      <th>ageOnLeadGroup_81 - 90</th>\n",
       "      <th>ageOnLeadGroup_Over 90</th>\n",
       "      <th>gender_M</th>\n",
       "      <th>gender_U</th>\n",
       "    </tr>\n",
       "  </thead>\n",
       "  <tbody>\n",
       "    <tr>\n",
       "      <th>26</th>\n",
       "      <td>1</td>\n",
       "      <td>12</td>\n",
       "      <td>132</td>\n",
       "      <td>22.0</td>\n",
       "      <td>2.0</td>\n",
       "      <td>5.0</td>\n",
       "      <td>1</td>\n",
       "      <td>0</td>\n",
       "      <td>0</td>\n",
       "      <td>0</td>\n",
       "      <td>1</td>\n",
       "      <td>0</td>\n",
       "      <td>0</td>\n",
       "      <td>0</td>\n",
       "      <td>1</td>\n",
       "      <td>0</td>\n",
       "      <td>0</td>\n",
       "      <td>0</td>\n",
       "      <td>0</td>\n",
       "      <td>1</td>\n",
       "    </tr>\n",
       "    <tr>\n",
       "      <th>28</th>\n",
       "      <td>1</td>\n",
       "      <td>4</td>\n",
       "      <td>2537</td>\n",
       "      <td>21.0</td>\n",
       "      <td>NaN</td>\n",
       "      <td>NaN</td>\n",
       "      <td>1</td>\n",
       "      <td>0</td>\n",
       "      <td>0</td>\n",
       "      <td>0</td>\n",
       "      <td>1</td>\n",
       "      <td>0</td>\n",
       "      <td>0</td>\n",
       "      <td>0</td>\n",
       "      <td>0</td>\n",
       "      <td>1</td>\n",
       "      <td>0</td>\n",
       "      <td>0</td>\n",
       "      <td>0</td>\n",
       "      <td>0</td>\n",
       "    </tr>\n",
       "    <tr>\n",
       "      <th>84</th>\n",
       "      <td>1</td>\n",
       "      <td>7</td>\n",
       "      <td>1325</td>\n",
       "      <td>22.0</td>\n",
       "      <td>2.0</td>\n",
       "      <td>5.0</td>\n",
       "      <td>0</td>\n",
       "      <td>1</td>\n",
       "      <td>0</td>\n",
       "      <td>0</td>\n",
       "      <td>1</td>\n",
       "      <td>0</td>\n",
       "      <td>0</td>\n",
       "      <td>0</td>\n",
       "      <td>1</td>\n",
       "      <td>0</td>\n",
       "      <td>0</td>\n",
       "      <td>0</td>\n",
       "      <td>0</td>\n",
       "      <td>0</td>\n",
       "    </tr>\n",
       "    <tr>\n",
       "      <th>1330</th>\n",
       "      <td>1</td>\n",
       "      <td>10</td>\n",
       "      <td>3373</td>\n",
       "      <td>21.0</td>\n",
       "      <td>NaN</td>\n",
       "      <td>NaN</td>\n",
       "      <td>0</td>\n",
       "      <td>0</td>\n",
       "      <td>1</td>\n",
       "      <td>0</td>\n",
       "      <td>0</td>\n",
       "      <td>0</td>\n",
       "      <td>0</td>\n",
       "      <td>0</td>\n",
       "      <td>1</td>\n",
       "      <td>0</td>\n",
       "      <td>0</td>\n",
       "      <td>0</td>\n",
       "      <td>1</td>\n",
       "      <td>0</td>\n",
       "    </tr>\n",
       "    <tr>\n",
       "      <th>1331</th>\n",
       "      <td>1</td>\n",
       "      <td>2</td>\n",
       "      <td>2311</td>\n",
       "      <td>2.0</td>\n",
       "      <td>2.0</td>\n",
       "      <td>5.0</td>\n",
       "      <td>0</td>\n",
       "      <td>0</td>\n",
       "      <td>1</td>\n",
       "      <td>0</td>\n",
       "      <td>1</td>\n",
       "      <td>0</td>\n",
       "      <td>0</td>\n",
       "      <td>0</td>\n",
       "      <td>0</td>\n",
       "      <td>1</td>\n",
       "      <td>0</td>\n",
       "      <td>0</td>\n",
       "      <td>0</td>\n",
       "      <td>1</td>\n",
       "    </tr>\n",
       "  </tbody>\n",
       "</table>\n",
       "</div>"
      ],
      "text/plain": [
       "      dispoGroup  callAttemptNumber  handleTimeSeconds  currentSkill  \\\n",
       "26             1                 12                132          22.0   \n",
       "28             1                  4               2537          21.0   \n",
       "84             1                  7               1325          22.0   \n",
       "1330           1                 10               3373          21.0   \n",
       "1331           1                  2               2311           2.0   \n",
       "\n",
       "      originalSkill  dailyMaxAttempts  callType_Manual Dial  \\\n",
       "26              2.0               5.0                     1   \n",
       "28              NaN               NaN                     1   \n",
       "84              2.0               5.0                     0   \n",
       "1330            NaN               NaN                     0   \n",
       "1331            2.0               5.0                     0   \n",
       "\n",
       "      callType_Outbound  callType_Outbound Agent Callback  callType_Voicemail  \\\n",
       "26                    0                                 0                   0   \n",
       "28                    0                                 0                   0   \n",
       "84                    1                                 0                   0   \n",
       "1330                  0                                 1                   0   \n",
       "1331                  0                                 1                   0   \n",
       "\n",
       "      originalContactType_OB  ageOnLeadGroup_31 - 40  ageOnLeadGroup_41 - 50  \\\n",
       "26                         1                       0                       0   \n",
       "28                         1                       0                       0   \n",
       "84                         1                       0                       0   \n",
       "1330                       0                       0                       0   \n",
       "1331                       1                       0                       0   \n",
       "\n",
       "      ageOnLeadGroup_51 - 60  ageOnLeadGroup_61 - 70  ageOnLeadGroup_71 - 80  \\\n",
       "26                         0                       1                       0   \n",
       "28                         0                       0                       1   \n",
       "84                         0                       1                       0   \n",
       "1330                       0                       1                       0   \n",
       "1331                       0                       0                       1   \n",
       "\n",
       "      ageOnLeadGroup_81 - 90  ageOnLeadGroup_Over 90  gender_M  gender_U  \n",
       "26                         0                       0         0         1  \n",
       "28                         0                       0         0         0  \n",
       "84                         0                       0         0         0  \n",
       "1330                       0                       0         1         0  \n",
       "1331                       0                       0         0         1  "
      ]
     },
     "execution_count": 36,
     "metadata": {},
     "output_type": "execute_result"
    }
   ],
   "source": [
    "modelling_data.head()"
   ]
  },
  {
   "cell_type": "code",
   "execution_count": 37,
   "metadata": {},
   "outputs": [
    {
     "name": "stdout",
     "output_type": "stream",
     "text": [
      "Shape of Train Data: (17407, 20)\n"
     ]
    }
   ],
   "source": [
    "print(\"Shape of Train Data:\",modelling_data.shape)"
   ]
  },
  {
   "cell_type": "code",
   "execution_count": 38,
   "metadata": {
    "scrolled": false
   },
   "outputs": [
    {
     "data": {
      "text/html": [
       "<div>\n",
       "<style scoped>\n",
       "    .dataframe tbody tr th:only-of-type {\n",
       "        vertical-align: middle;\n",
       "    }\n",
       "\n",
       "    .dataframe tbody tr th {\n",
       "        vertical-align: top;\n",
       "    }\n",
       "\n",
       "    .dataframe thead th {\n",
       "        text-align: right;\n",
       "    }\n",
       "</style>\n",
       "<table border=\"1\" class=\"dataframe\">\n",
       "  <thead>\n",
       "    <tr style=\"text-align: right;\">\n",
       "      <th></th>\n",
       "      <th>dispoGroup</th>\n",
       "      <th>callAttemptNumber</th>\n",
       "      <th>handleTimeSeconds</th>\n",
       "      <th>currentSkill</th>\n",
       "      <th>originalSkill</th>\n",
       "      <th>dailyMaxAttempts</th>\n",
       "      <th>callType_Manual Dial</th>\n",
       "      <th>callType_Outbound</th>\n",
       "      <th>callType_Outbound Agent Callback</th>\n",
       "      <th>callType_Voicemail</th>\n",
       "      <th>originalContactType_OB</th>\n",
       "      <th>ageOnLeadGroup_31 - 40</th>\n",
       "      <th>ageOnLeadGroup_41 - 50</th>\n",
       "      <th>ageOnLeadGroup_51 - 60</th>\n",
       "      <th>ageOnLeadGroup_61 - 70</th>\n",
       "      <th>ageOnLeadGroup_71 - 80</th>\n",
       "      <th>ageOnLeadGroup_81 - 90</th>\n",
       "      <th>ageOnLeadGroup_Over 90</th>\n",
       "      <th>gender_M</th>\n",
       "      <th>gender_U</th>\n",
       "    </tr>\n",
       "  </thead>\n",
       "  <tbody>\n",
       "    <tr>\n",
       "      <th>26</th>\n",
       "      <td>1</td>\n",
       "      <td>12</td>\n",
       "      <td>132</td>\n",
       "      <td>22.0</td>\n",
       "      <td>2.0</td>\n",
       "      <td>5.0</td>\n",
       "      <td>1</td>\n",
       "      <td>0</td>\n",
       "      <td>0</td>\n",
       "      <td>0</td>\n",
       "      <td>1</td>\n",
       "      <td>0</td>\n",
       "      <td>0</td>\n",
       "      <td>0</td>\n",
       "      <td>1</td>\n",
       "      <td>0</td>\n",
       "      <td>0</td>\n",
       "      <td>0</td>\n",
       "      <td>0</td>\n",
       "      <td>1</td>\n",
       "    </tr>\n",
       "    <tr>\n",
       "      <th>28</th>\n",
       "      <td>1</td>\n",
       "      <td>4</td>\n",
       "      <td>2537</td>\n",
       "      <td>21.0</td>\n",
       "      <td>NaN</td>\n",
       "      <td>NaN</td>\n",
       "      <td>1</td>\n",
       "      <td>0</td>\n",
       "      <td>0</td>\n",
       "      <td>0</td>\n",
       "      <td>1</td>\n",
       "      <td>0</td>\n",
       "      <td>0</td>\n",
       "      <td>0</td>\n",
       "      <td>0</td>\n",
       "      <td>1</td>\n",
       "      <td>0</td>\n",
       "      <td>0</td>\n",
       "      <td>0</td>\n",
       "      <td>0</td>\n",
       "    </tr>\n",
       "    <tr>\n",
       "      <th>84</th>\n",
       "      <td>1</td>\n",
       "      <td>7</td>\n",
       "      <td>1325</td>\n",
       "      <td>22.0</td>\n",
       "      <td>2.0</td>\n",
       "      <td>5.0</td>\n",
       "      <td>0</td>\n",
       "      <td>1</td>\n",
       "      <td>0</td>\n",
       "      <td>0</td>\n",
       "      <td>1</td>\n",
       "      <td>0</td>\n",
       "      <td>0</td>\n",
       "      <td>0</td>\n",
       "      <td>1</td>\n",
       "      <td>0</td>\n",
       "      <td>0</td>\n",
       "      <td>0</td>\n",
       "      <td>0</td>\n",
       "      <td>0</td>\n",
       "    </tr>\n",
       "    <tr>\n",
       "      <th>1330</th>\n",
       "      <td>1</td>\n",
       "      <td>10</td>\n",
       "      <td>3373</td>\n",
       "      <td>21.0</td>\n",
       "      <td>NaN</td>\n",
       "      <td>NaN</td>\n",
       "      <td>0</td>\n",
       "      <td>0</td>\n",
       "      <td>1</td>\n",
       "      <td>0</td>\n",
       "      <td>0</td>\n",
       "      <td>0</td>\n",
       "      <td>0</td>\n",
       "      <td>0</td>\n",
       "      <td>1</td>\n",
       "      <td>0</td>\n",
       "      <td>0</td>\n",
       "      <td>0</td>\n",
       "      <td>1</td>\n",
       "      <td>0</td>\n",
       "    </tr>\n",
       "    <tr>\n",
       "      <th>1331</th>\n",
       "      <td>1</td>\n",
       "      <td>2</td>\n",
       "      <td>2311</td>\n",
       "      <td>2.0</td>\n",
       "      <td>2.0</td>\n",
       "      <td>5.0</td>\n",
       "      <td>0</td>\n",
       "      <td>0</td>\n",
       "      <td>1</td>\n",
       "      <td>0</td>\n",
       "      <td>1</td>\n",
       "      <td>0</td>\n",
       "      <td>0</td>\n",
       "      <td>0</td>\n",
       "      <td>0</td>\n",
       "      <td>1</td>\n",
       "      <td>0</td>\n",
       "      <td>0</td>\n",
       "      <td>0</td>\n",
       "      <td>1</td>\n",
       "    </tr>\n",
       "  </tbody>\n",
       "</table>\n",
       "</div>"
      ],
      "text/plain": [
       "      dispoGroup  callAttemptNumber  handleTimeSeconds  currentSkill  \\\n",
       "26             1                 12                132          22.0   \n",
       "28             1                  4               2537          21.0   \n",
       "84             1                  7               1325          22.0   \n",
       "1330           1                 10               3373          21.0   \n",
       "1331           1                  2               2311           2.0   \n",
       "\n",
       "      originalSkill  dailyMaxAttempts  callType_Manual Dial  \\\n",
       "26              2.0               5.0                     1   \n",
       "28              NaN               NaN                     1   \n",
       "84              2.0               5.0                     0   \n",
       "1330            NaN               NaN                     0   \n",
       "1331            2.0               5.0                     0   \n",
       "\n",
       "      callType_Outbound  callType_Outbound Agent Callback  callType_Voicemail  \\\n",
       "26                    0                                 0                   0   \n",
       "28                    0                                 0                   0   \n",
       "84                    1                                 0                   0   \n",
       "1330                  0                                 1                   0   \n",
       "1331                  0                                 1                   0   \n",
       "\n",
       "      originalContactType_OB  ageOnLeadGroup_31 - 40  ageOnLeadGroup_41 - 50  \\\n",
       "26                         1                       0                       0   \n",
       "28                         1                       0                       0   \n",
       "84                         1                       0                       0   \n",
       "1330                       0                       0                       0   \n",
       "1331                       1                       0                       0   \n",
       "\n",
       "      ageOnLeadGroup_51 - 60  ageOnLeadGroup_61 - 70  ageOnLeadGroup_71 - 80  \\\n",
       "26                         0                       1                       0   \n",
       "28                         0                       0                       1   \n",
       "84                         0                       1                       0   \n",
       "1330                       0                       1                       0   \n",
       "1331                       0                       0                       1   \n",
       "\n",
       "      ageOnLeadGroup_81 - 90  ageOnLeadGroup_Over 90  gender_M  gender_U  \n",
       "26                         0                       0         0         1  \n",
       "28                         0                       0         0         0  \n",
       "84                         0                       0         0         0  \n",
       "1330                       0                       0         1         0  \n",
       "1331                       0                       0         0         1  "
      ]
     },
     "execution_count": 38,
     "metadata": {},
     "output_type": "execute_result"
    }
   ],
   "source": [
    "modelling_data.head()"
   ]
  },
  {
   "cell_type": "code",
   "execution_count": 39,
   "metadata": {},
   "outputs": [],
   "source": [
    "# Imputting mode values in some columns to avoid null values.\n",
    "\n",
    "modelling_data.dailyMaxAttempts.mode()[0]\n",
    "modelling_data['originalSkill']= modelling_data['originalSkill'].fillna(modelling_data.originalSkill.mode()[0])\n",
    "modelling_data['currentSkill']= modelling_data['currentSkill'].fillna(modelling_data.currentSkill.mode()[0])\n",
    "modelling_data['dailyMaxAttempts']= modelling_data['dailyMaxAttempts'].fillna(modelling_data.dailyMaxAttempts.mode()[0])"
   ]
  },
  {
   "cell_type": "markdown",
   "metadata": {},
   "source": [
    "### Test Data"
   ]
  },
  {
   "cell_type": "markdown",
   "metadata": {},
   "source": [
    "Preprocessing the Test Data (i.e. Still Workable Category)"
   ]
  },
  {
   "cell_type": "code",
   "execution_count": 40,
   "metadata": {},
   "outputs": [],
   "source": [
    "#Collecting Data in test dataframe.\n",
    "test= compressed_join.loc[(compressed_join['dispoGroup']== 'Still Workable')]"
   ]
  },
  {
   "cell_type": "code",
   "execution_count": 41,
   "metadata": {},
   "outputs": [
    {
     "name": "stdout",
     "output_type": "stream",
     "text": [
      "Null values:  dialerLeadId                            0\n",
      "dimAgentId                              0\n",
      "callDate                                0\n",
      "callDateKey                             0\n",
      "callType                                0\n",
      "dispoGroup                              0\n",
      "dispoDescription                        0\n",
      "callAttemptNumber                       0\n",
      "handleTimeSeconds                       0\n",
      "callEndDate                             0\n",
      "callEndDateKey                          0\n",
      "nobleDispoCode                          2\n",
      "leadDate                                0\n",
      "leadDateKey                             0\n",
      "originalContactType                     0\n",
      "ageOnLeadGroup                       1046\n",
      "gender                                  0\n",
      "leadCost                            20924\n",
      "callCenterLatestDispoGroup              0\n",
      "callCenterLatestDispoDescription        0\n",
      "currentSkill                            0\n",
      "originalSkill                        2222\n",
      "maxAttempts                          2262\n",
      "dailyMaxAttempts                     2262\n",
      "dtype: int64\n"
     ]
    }
   ],
   "source": [
    "# Checking for null values.\n",
    "print(\"Null values: \",test.isnull().sum())"
   ]
  },
  {
   "cell_type": "code",
   "execution_count": 42,
   "metadata": {},
   "outputs": [],
   "source": [
    "#Creating dummy variables for the test data.\n",
    "test_data= dummy(test)"
   ]
  },
  {
   "cell_type": "code",
   "execution_count": 43,
   "metadata": {},
   "outputs": [],
   "source": [
    "#Dropping some unrequired columns having null values and Ids.\n",
    "\n",
    "columns= ['callCenterLatestDispoDescription','maxAttempts', 'leadCost','leadDate', 'callDate',\n",
    "          'dispoDescription', 'callEndDate', 'nobleDispoCode', 'callCenterLatestDispoGroup',\n",
    "          'dialerLeadId', 'dimAgentId', 'callDateKey', 'callEndDateKey', 'leadDateKey', 'dispoGroup']\n",
    "\n",
    "test_data= test_data.drop(columns= columns , axis= 1)"
   ]
  },
  {
   "cell_type": "code",
   "execution_count": 44,
   "metadata": {},
   "outputs": [
    {
     "name": "stdout",
     "output_type": "stream",
     "text": [
      "Shape of test data:  (114755, 19)\n"
     ]
    }
   ],
   "source": [
    "#Shape of test data\n",
    "print(\"Shape of test data: \", test_data.shape)"
   ]
  },
  {
   "cell_type": "code",
   "execution_count": 45,
   "metadata": {
    "scrolled": false
   },
   "outputs": [
    {
     "data": {
      "text/html": [
       "<div>\n",
       "<style scoped>\n",
       "    .dataframe tbody tr th:only-of-type {\n",
       "        vertical-align: middle;\n",
       "    }\n",
       "\n",
       "    .dataframe tbody tr th {\n",
       "        vertical-align: top;\n",
       "    }\n",
       "\n",
       "    .dataframe thead th {\n",
       "        text-align: right;\n",
       "    }\n",
       "</style>\n",
       "<table border=\"1\" class=\"dataframe\">\n",
       "  <thead>\n",
       "    <tr style=\"text-align: right;\">\n",
       "      <th></th>\n",
       "      <th>callAttemptNumber</th>\n",
       "      <th>handleTimeSeconds</th>\n",
       "      <th>currentSkill</th>\n",
       "      <th>originalSkill</th>\n",
       "      <th>dailyMaxAttempts</th>\n",
       "      <th>callType_Manual Dial</th>\n",
       "      <th>callType_Outbound</th>\n",
       "      <th>callType_Outbound Agent Callback</th>\n",
       "      <th>callType_Voicemail</th>\n",
       "      <th>originalContactType_OB</th>\n",
       "      <th>ageOnLeadGroup_31 - 40</th>\n",
       "      <th>ageOnLeadGroup_41 - 50</th>\n",
       "      <th>ageOnLeadGroup_51 - 60</th>\n",
       "      <th>ageOnLeadGroup_61 - 70</th>\n",
       "      <th>ageOnLeadGroup_71 - 80</th>\n",
       "      <th>ageOnLeadGroup_81 - 90</th>\n",
       "      <th>ageOnLeadGroup_Over 90</th>\n",
       "      <th>gender_M</th>\n",
       "      <th>gender_U</th>\n",
       "    </tr>\n",
       "  </thead>\n",
       "  <tbody>\n",
       "    <tr>\n",
       "      <th>4</th>\n",
       "      <td>3</td>\n",
       "      <td>86</td>\n",
       "      <td>22.0</td>\n",
       "      <td>2.0</td>\n",
       "      <td>5.0</td>\n",
       "      <td>0</td>\n",
       "      <td>1</td>\n",
       "      <td>0</td>\n",
       "      <td>0</td>\n",
       "      <td>1</td>\n",
       "      <td>0</td>\n",
       "      <td>0</td>\n",
       "      <td>0</td>\n",
       "      <td>1</td>\n",
       "      <td>0</td>\n",
       "      <td>0</td>\n",
       "      <td>0</td>\n",
       "      <td>1</td>\n",
       "      <td>0</td>\n",
       "    </tr>\n",
       "    <tr>\n",
       "      <th>7</th>\n",
       "      <td>7</td>\n",
       "      <td>105</td>\n",
       "      <td>22.0</td>\n",
       "      <td>2.0</td>\n",
       "      <td>5.0</td>\n",
       "      <td>0</td>\n",
       "      <td>1</td>\n",
       "      <td>0</td>\n",
       "      <td>0</td>\n",
       "      <td>1</td>\n",
       "      <td>0</td>\n",
       "      <td>0</td>\n",
       "      <td>0</td>\n",
       "      <td>0</td>\n",
       "      <td>0</td>\n",
       "      <td>1</td>\n",
       "      <td>0</td>\n",
       "      <td>0</td>\n",
       "      <td>0</td>\n",
       "    </tr>\n",
       "    <tr>\n",
       "      <th>11</th>\n",
       "      <td>4</td>\n",
       "      <td>73</td>\n",
       "      <td>22.0</td>\n",
       "      <td>2.0</td>\n",
       "      <td>5.0</td>\n",
       "      <td>0</td>\n",
       "      <td>1</td>\n",
       "      <td>0</td>\n",
       "      <td>0</td>\n",
       "      <td>1</td>\n",
       "      <td>0</td>\n",
       "      <td>0</td>\n",
       "      <td>0</td>\n",
       "      <td>1</td>\n",
       "      <td>0</td>\n",
       "      <td>0</td>\n",
       "      <td>0</td>\n",
       "      <td>0</td>\n",
       "      <td>0</td>\n",
       "    </tr>\n",
       "    <tr>\n",
       "      <th>12</th>\n",
       "      <td>2</td>\n",
       "      <td>322</td>\n",
       "      <td>2.0</td>\n",
       "      <td>2.0</td>\n",
       "      <td>5.0</td>\n",
       "      <td>0</td>\n",
       "      <td>1</td>\n",
       "      <td>0</td>\n",
       "      <td>0</td>\n",
       "      <td>1</td>\n",
       "      <td>0</td>\n",
       "      <td>0</td>\n",
       "      <td>0</td>\n",
       "      <td>0</td>\n",
       "      <td>1</td>\n",
       "      <td>0</td>\n",
       "      <td>0</td>\n",
       "      <td>0</td>\n",
       "      <td>0</td>\n",
       "    </tr>\n",
       "    <tr>\n",
       "      <th>13</th>\n",
       "      <td>7</td>\n",
       "      <td>163</td>\n",
       "      <td>22.0</td>\n",
       "      <td>2.0</td>\n",
       "      <td>5.0</td>\n",
       "      <td>0</td>\n",
       "      <td>1</td>\n",
       "      <td>0</td>\n",
       "      <td>0</td>\n",
       "      <td>1</td>\n",
       "      <td>0</td>\n",
       "      <td>0</td>\n",
       "      <td>0</td>\n",
       "      <td>1</td>\n",
       "      <td>0</td>\n",
       "      <td>0</td>\n",
       "      <td>0</td>\n",
       "      <td>0</td>\n",
       "      <td>0</td>\n",
       "    </tr>\n",
       "  </tbody>\n",
       "</table>\n",
       "</div>"
      ],
      "text/plain": [
       "    callAttemptNumber  handleTimeSeconds  currentSkill  originalSkill  \\\n",
       "4                   3                 86          22.0            2.0   \n",
       "7                   7                105          22.0            2.0   \n",
       "11                  4                 73          22.0            2.0   \n",
       "12                  2                322           2.0            2.0   \n",
       "13                  7                163          22.0            2.0   \n",
       "\n",
       "    dailyMaxAttempts  callType_Manual Dial  callType_Outbound  \\\n",
       "4                5.0                     0                  1   \n",
       "7                5.0                     0                  1   \n",
       "11               5.0                     0                  1   \n",
       "12               5.0                     0                  1   \n",
       "13               5.0                     0                  1   \n",
       "\n",
       "    callType_Outbound Agent Callback  callType_Voicemail  \\\n",
       "4                                  0                   0   \n",
       "7                                  0                   0   \n",
       "11                                 0                   0   \n",
       "12                                 0                   0   \n",
       "13                                 0                   0   \n",
       "\n",
       "    originalContactType_OB  ageOnLeadGroup_31 - 40  ageOnLeadGroup_41 - 50  \\\n",
       "4                        1                       0                       0   \n",
       "7                        1                       0                       0   \n",
       "11                       1                       0                       0   \n",
       "12                       1                       0                       0   \n",
       "13                       1                       0                       0   \n",
       "\n",
       "    ageOnLeadGroup_51 - 60  ageOnLeadGroup_61 - 70  ageOnLeadGroup_71 - 80  \\\n",
       "4                        0                       1                       0   \n",
       "7                        0                       0                       0   \n",
       "11                       0                       1                       0   \n",
       "12                       0                       0                       1   \n",
       "13                       0                       1                       0   \n",
       "\n",
       "    ageOnLeadGroup_81 - 90  ageOnLeadGroup_Over 90  gender_M  gender_U  \n",
       "4                        0                       0         1         0  \n",
       "7                        1                       0         0         0  \n",
       "11                       0                       0         0         0  \n",
       "12                       0                       0         0         0  \n",
       "13                       0                       0         0         0  "
      ]
     },
     "execution_count": 45,
     "metadata": {},
     "output_type": "execute_result"
    }
   ],
   "source": [
    "test_data.head()"
   ]
  },
  {
   "cell_type": "code",
   "execution_count": 46,
   "metadata": {},
   "outputs": [],
   "source": [
    "# Imputting mode values in some columns to avoid null values in the test data.\n",
    "\n",
    "test_data.dailyMaxAttempts.mode()[0]\n",
    "test_data['originalSkill']= test_data['originalSkill'].fillna(test_data.originalSkill.mode()[0])\n",
    "test_data['currentSkill']= test_data['currentSkill'].fillna(test_data.currentSkill.mode()[0])\n",
    "test_data['dailyMaxAttempts']= test_data['dailyMaxAttempts'].fillna(test_data.dailyMaxAttempts.mode()[0])"
   ]
  },
  {
   "cell_type": "markdown",
   "metadata": {},
   "source": [
    "### Modelling Data Split"
   ]
  },
  {
   "cell_type": "code",
   "execution_count": 47,
   "metadata": {},
   "outputs": [],
   "source": [
    "#Separating target and independent variables.\n",
    "\n",
    "y= modelling_data['dispoGroup']\n",
    "X= modelling_data.drop(columns= 'dispoGroup', axis= 1)"
   ]
  },
  {
   "cell_type": "code",
   "execution_count": 48,
   "metadata": {
    "scrolled": true
   },
   "outputs": [],
   "source": [
    "#Checking correlation \n",
    "corr= X.corr()"
   ]
  },
  {
   "cell_type": "code",
   "execution_count": 49,
   "metadata": {},
   "outputs": [
    {
     "data": {
      "text/plain": [
       "<matplotlib.axes._subplots.AxesSubplot at 0x1ccb7813898>"
      ]
     },
     "execution_count": 49,
     "metadata": {},
     "output_type": "execute_result"
    },
    {
     "data": {
      "image/png": "[encoded data removed]",
      "text/plain": [
       "<Figure size 720x576 with 2 Axes>"
      ]
     },
     "metadata": {},
     "output_type": "display_data"
    }
   ],
   "source": [
    "#Heatmap for the correlation matrix.\n",
    "\n",
    "sns.heatmap(corr)"
   ]
  },
  {
   "cell_type": "code",
   "execution_count": 50,
   "metadata": {},
   "outputs": [
    {
     "data": {
      "text/html": [
       "<div>\n",
       "<style scoped>\n",
       "    .dataframe tbody tr th:only-of-type {\n",
       "        vertical-align: middle;\n",
       "    }\n",
       "\n",
       "    .dataframe tbody tr th {\n",
       "        vertical-align: top;\n",
       "    }\n",
       "\n",
       "    .dataframe thead th {\n",
       "        text-align: right;\n",
       "    }\n",
       "</style>\n",
       "<table border=\"1\" class=\"dataframe\">\n",
       "  <thead>\n",
       "    <tr style=\"text-align: right;\">\n",
       "      <th></th>\n",
       "      <th>callAttemptNumber</th>\n",
       "      <th>handleTimeSeconds</th>\n",
       "      <th>currentSkill</th>\n",
       "      <th>originalSkill</th>\n",
       "      <th>dailyMaxAttempts</th>\n",
       "      <th>callType_Manual Dial</th>\n",
       "      <th>callType_Outbound</th>\n",
       "      <th>callType_Outbound Agent Callback</th>\n",
       "      <th>callType_Voicemail</th>\n",
       "      <th>originalContactType_OB</th>\n",
       "      <th>ageOnLeadGroup_31 - 40</th>\n",
       "      <th>ageOnLeadGroup_41 - 50</th>\n",
       "      <th>ageOnLeadGroup_51 - 60</th>\n",
       "      <th>ageOnLeadGroup_61 - 70</th>\n",
       "      <th>ageOnLeadGroup_71 - 80</th>\n",
       "      <th>ageOnLeadGroup_81 - 90</th>\n",
       "      <th>ageOnLeadGroup_Over 90</th>\n",
       "      <th>gender_M</th>\n",
       "      <th>gender_U</th>\n",
       "    </tr>\n",
       "  </thead>\n",
       "  <tbody>\n",
       "    <tr>\n",
       "      <th>26</th>\n",
       "      <td>12</td>\n",
       "      <td>132</td>\n",
       "      <td>22.0</td>\n",
       "      <td>2.0</td>\n",
       "      <td>5.0</td>\n",
       "      <td>1</td>\n",
       "      <td>0</td>\n",
       "      <td>0</td>\n",
       "      <td>0</td>\n",
       "      <td>1</td>\n",
       "      <td>0</td>\n",
       "      <td>0</td>\n",
       "      <td>0</td>\n",
       "      <td>1</td>\n",
       "      <td>0</td>\n",
       "      <td>0</td>\n",
       "      <td>0</td>\n",
       "      <td>0</td>\n",
       "      <td>1</td>\n",
       "    </tr>\n",
       "    <tr>\n",
       "      <th>28</th>\n",
       "      <td>4</td>\n",
       "      <td>2537</td>\n",
       "      <td>21.0</td>\n",
       "      <td>2.0</td>\n",
       "      <td>5.0</td>\n",
       "      <td>1</td>\n",
       "      <td>0</td>\n",
       "      <td>0</td>\n",
       "      <td>0</td>\n",
       "      <td>1</td>\n",
       "      <td>0</td>\n",
       "      <td>0</td>\n",
       "      <td>0</td>\n",
       "      <td>0</td>\n",
       "      <td>1</td>\n",
       "      <td>0</td>\n",
       "      <td>0</td>\n",
       "      <td>0</td>\n",
       "      <td>0</td>\n",
       "    </tr>\n",
       "    <tr>\n",
       "      <th>84</th>\n",
       "      <td>7</td>\n",
       "      <td>1325</td>\n",
       "      <td>22.0</td>\n",
       "      <td>2.0</td>\n",
       "      <td>5.0</td>\n",
       "      <td>0</td>\n",
       "      <td>1</td>\n",
       "      <td>0</td>\n",
       "      <td>0</td>\n",
       "      <td>1</td>\n",
       "      <td>0</td>\n",
       "      <td>0</td>\n",
       "      <td>0</td>\n",
       "      <td>1</td>\n",
       "      <td>0</td>\n",
       "      <td>0</td>\n",
       "      <td>0</td>\n",
       "      <td>0</td>\n",
       "      <td>0</td>\n",
       "    </tr>\n",
       "    <tr>\n",
       "      <th>1330</th>\n",
       "      <td>10</td>\n",
       "      <td>3373</td>\n",
       "      <td>21.0</td>\n",
       "      <td>2.0</td>\n",
       "      <td>5.0</td>\n",
       "      <td>0</td>\n",
       "      <td>0</td>\n",
       "      <td>1</td>\n",
       "      <td>0</td>\n",
       "      <td>0</td>\n",
       "      <td>0</td>\n",
       "      <td>0</td>\n",
       "      <td>0</td>\n",
       "      <td>1</td>\n",
       "      <td>0</td>\n",
       "      <td>0</td>\n",
       "      <td>0</td>\n",
       "      <td>1</td>\n",
       "      <td>0</td>\n",
       "    </tr>\n",
       "    <tr>\n",
       "      <th>1331</th>\n",
       "      <td>2</td>\n",
       "      <td>2311</td>\n",
       "      <td>2.0</td>\n",
       "      <td>2.0</td>\n",
       "      <td>5.0</td>\n",
       "      <td>0</td>\n",
       "      <td>0</td>\n",
       "      <td>1</td>\n",
       "      <td>0</td>\n",
       "      <td>1</td>\n",
       "      <td>0</td>\n",
       "      <td>0</td>\n",
       "      <td>0</td>\n",
       "      <td>0</td>\n",
       "      <td>1</td>\n",
       "      <td>0</td>\n",
       "      <td>0</td>\n",
       "      <td>0</td>\n",
       "      <td>1</td>\n",
       "    </tr>\n",
       "  </tbody>\n",
       "</table>\n",
       "</div>"
      ],
      "text/plain": [
       "      callAttemptNumber  handleTimeSeconds  currentSkill  originalSkill  \\\n",
       "26                   12                132          22.0            2.0   \n",
       "28                    4               2537          21.0            2.0   \n",
       "84                    7               1325          22.0            2.0   \n",
       "1330                 10               3373          21.0            2.0   \n",
       "1331                  2               2311           2.0            2.0   \n",
       "\n",
       "      dailyMaxAttempts  callType_Manual Dial  callType_Outbound  \\\n",
       "26                 5.0                     1                  0   \n",
       "28                 5.0                     1                  0   \n",
       "84                 5.0                     0                  1   \n",
       "1330               5.0                     0                  0   \n",
       "1331               5.0                     0                  0   \n",
       "\n",
       "      callType_Outbound Agent Callback  callType_Voicemail  \\\n",
       "26                                   0                   0   \n",
       "28                                   0                   0   \n",
       "84                                   0                   0   \n",
       "1330                                 1                   0   \n",
       "1331                                 1                   0   \n",
       "\n",
       "      originalContactType_OB  ageOnLeadGroup_31 - 40  ageOnLeadGroup_41 - 50  \\\n",
       "26                         1                       0                       0   \n",
       "28                         1                       0                       0   \n",
       "84                         1                       0                       0   \n",
       "1330                       0                       0                       0   \n",
       "1331                       1                       0                       0   \n",
       "\n",
       "      ageOnLeadGroup_51 - 60  ageOnLeadGroup_61 - 70  ageOnLeadGroup_71 - 80  \\\n",
       "26                         0                       1                       0   \n",
       "28                         0                       0                       1   \n",
       "84                         0                       1                       0   \n",
       "1330                       0                       1                       0   \n",
       "1331                       0                       0                       1   \n",
       "\n",
       "      ageOnLeadGroup_81 - 90  ageOnLeadGroup_Over 90  gender_M  gender_U  \n",
       "26                         0                       0         0         1  \n",
       "28                         0                       0         0         0  \n",
       "84                         0                       0         0         0  \n",
       "1330                       0                       0         1         0  \n",
       "1331                       0                       0         0         1  "
      ]
     },
     "execution_count": 50,
     "metadata": {},
     "output_type": "execute_result"
    }
   ],
   "source": [
    "X.head()"
   ]
  },
  {
   "cell_type": "code",
   "execution_count": 51,
   "metadata": {},
   "outputs": [
    {
     "name": "stdout",
     "output_type": "stream",
     "text": [
      "Value counts before SMOTE: Counter({0: 15759, 1: 1648})\n",
      "Value counts after SMOTE: [15759  7879]\n"
     ]
    }
   ],
   "source": [
    "# As we can see that the data in imbalanced, we cannot directly run prediction models as it will give bad results.\n",
    "#To overcome thsi situation OI have used SMOTE technique for oversampling the minority class.\n",
    "\n",
    "sm = SMOTE(random_state=12, sampling_strategy=0.5)\n",
    "X_res, y_res = sm.fit_sample(X, y)\n",
    "print(\"Value counts before SMOTE:\", collections.Counter(y))\n",
    "print(\"Value counts after SMOTE:\",np.bincount(y_res))"
   ]
  },
  {
   "cell_type": "code",
   "execution_count": 52,
   "metadata": {},
   "outputs": [],
   "source": [
    "#Splitting the modelling data on 70-30 train test set.\n",
    "\n",
    "X_train, X_validate, y_train, y_validate= train_test_split(X_res, y_res, test_size= 0.3, random_state= 45)"
   ]
  },
  {
   "cell_type": "markdown",
   "metadata": {},
   "source": [
    "## Modelling"
   ]
  },
  {
   "cell_type": "markdown",
   "metadata": {},
   "source": [
    "### Random Forest Classifier"
   ]
  },
  {
   "cell_type": "markdown",
   "metadata": {},
   "source": [
    "<b>I am using Random Forest Classifier with GridSearchCV for hyper parameter tuning. Random Forest will help us get the important features for we will train the model on the Sale/ No sale data and use the Still Workable category created earlier for test purpose.</b>"
   ]
  },
  {
   "cell_type": "code",
   "execution_count": 53,
   "metadata": {},
   "outputs": [
    {
     "name": "stdout",
     "output_type": "stream",
     "text": [
      "Fitting 3 folds for each of 162 candidates, totalling 486 fits\n"
     ]
    },
    {
     "name": "stderr",
     "output_type": "stream",
     "text": [
      "[Parallel(n_jobs=-1)]: Using backend LokyBackend with 8 concurrent workers.\n",
      "[Parallel(n_jobs=-1)]: Done  34 tasks      | elapsed:   56.2s\n",
      "[Parallel(n_jobs=-1)]: Done 184 tasks      | elapsed:  4.1min\n",
      "[Parallel(n_jobs=-1)]: Done 434 tasks      | elapsed: 10.7min\n",
      "[Parallel(n_jobs=-1)]: Done 486 out of 486 | elapsed: 12.0min finished\n"
     ]
    },
    {
     "name": "stdout",
     "output_type": "stream",
     "text": [
      "Random Forest Classifier Best Model in GridSearch:  GridSearchCV(cv=3, estimator=RandomForestClassifier(random_state=4), n_jobs=-1,\n",
      "             param_grid={'criterion': ['gini', 'entropy'],\n",
      "                         'max_depth': [15, 20, 25],\n",
      "                         'min_samples_leaf': [1, 2, 3],\n",
      "                         'min_samples_split': [3, 5, 10],\n",
      "                         'n_estimators': [450, 500, 550]},\n",
      "             scoring='f1', verbose=1)\n"
     ]
    }
   ],
   "source": [
    "#Creating parameter grid to tune the parameters required for RandomForestClassifier.\n",
    "\n",
    "n_estimators = [450,500,550]\n",
    "criterion = ['gini', 'entropy']\n",
    "max_depth = [15, 20, 25]\n",
    "min_samples_split = [3, 5, 10]\n",
    "min_samples_leaf = [1, 2, 3] \n",
    "\n",
    "#Dictionay for the grid\n",
    "parameter_grid = dict(n_estimators = n_estimators, criterion = criterion, max_depth = max_depth,\n",
    "                      min_samples_split = min_samples_split, min_samples_leaf = min_samples_leaf)\n",
    "\n",
    "#Model to be used: RandomForestClassifier with random_state=4\n",
    "estimator= RandomForestClassifier(random_state= 4)  \n",
    "\n",
    "#GridSearchCV on the above declared model and parameters.\n",
    "rf_grid = GridSearchCV(estimator, parameter_grid, cv = 3, scoring='f1', verbose=1, n_jobs = -1)\n",
    "rf_model= rf_grid.fit(X_train, y_train)\n",
    "print(\"Random Forest Classifier Best Model in GridSearch: \", rf_model)"
   ]
  },
  {
   "cell_type": "code",
   "execution_count": 54,
   "metadata": {},
   "outputs": [
    {
     "name": "stdout",
     "output_type": "stream",
     "text": [
      "Best Parameters after tuning:  {'criterion': 'gini', 'max_depth': 20, 'min_samples_leaf': 2, 'min_samples_split': 5, 'n_estimators': 550}\n"
     ]
    }
   ],
   "source": [
    "## Printing Best parameters from the grid search.\n",
    "print(\"Best Parameters after tuning: \", rf_model.best_params_)"
   ]
  },
  {
   "cell_type": "code",
   "execution_count": 55,
   "metadata": {},
   "outputs": [
    {
     "name": "stdout",
     "output_type": "stream",
     "text": [
      "Random Forest Classifier Final Model:  RandomForestClassifier(max_depth=20, min_samples_leaf=2, min_samples_split=5,\n",
      "                       n_estimators=550, random_state=12)\n"
     ]
    }
   ],
   "source": [
    "#Running Final Random Forest Classifier Model using the tuned Hyperparameter.\n",
    "rf = RandomForestClassifier(random_state = 12, n_estimators = 550, criterion= \"gini\", \n",
    "                            max_depth= 20, min_samples_leaf= 2, min_samples_split= 5) \n",
    "\n",
    "rf_final_model = rf.fit(X_train, y_train)\n",
    "print(\"Random Forest Classifier Final Model: \", rf_final_model)"
   ]
  },
  {
   "cell_type": "code",
   "execution_count": 56,
   "metadata": {},
   "outputs": [
    {
     "name": "stdout",
     "output_type": "stream",
     "text": [
      "F1-Score : 0.9476130122517955\n",
      "Precision: 0.9504237288135593\n",
      "Accuracy : 0.9650310208685843\n"
     ]
    }
   ],
   "source": [
    "#Predicting values of the validation set, and printing metrics.\n",
    "y_pred = rf_final_model.predict(X_validate)\n",
    "\n",
    "print(\"F1-Score :\" ,f1_score(y_validate, y_pred))\n",
    "print(\"Precision:\" ,precision_score(y_validate, y_pred))\n",
    "print(\"Accuracy :\", accuracy_score(y_validate, y_pred))"
   ]
  },
  {
   "cell_type": "code",
   "execution_count": 57,
   "metadata": {},
   "outputs": [
    {
     "name": "stdout",
     "output_type": "stream",
     "text": [
      "F1-Score : 0.9694559913247786\n",
      "Precision: 0.964574716777558\n",
      "Accuracy : 0.9795721020186148\n"
     ]
    }
   ],
   "source": [
    "#Predicting values of the Train set, and printing metrics.\n",
    "y_pred_train = rf_final_model.predict(X_train)\n",
    "\n",
    "print(\"F1-Score :\" ,f1_score(y_train, y_pred_train))\n",
    "print(\"Precision:\" ,precision_score(y_train, y_pred_train))\n",
    "print(\"Accuracy :\", accuracy_score(y_train, y_pred_train))"
   ]
  },
  {
   "cell_type": "markdown",
   "metadata": {},
   "source": [
    "<b>Feature Importance in the Random Forest Classifier.</b>"
   ]
  },
  {
   "cell_type": "code",
   "execution_count": 58,
   "metadata": {},
   "outputs": [],
   "source": [
    "importances= rf_final_model.feature_importances_ "
   ]
  },
  {
   "cell_type": "code",
   "execution_count": 59,
   "metadata": {},
   "outputs": [
    {
     "name": "stdout",
     "output_type": "stream",
     "text": [
      "Feature ranking:\n",
      "1. feature 1 (0.605392)\n",
      "2. feature 6 (0.092811)\n",
      "3. feature 2 (0.075832)\n",
      "4. feature 3 (0.058553)\n",
      "5. feature 18 (0.033934)\n",
      "6. feature 0 (0.029343)\n",
      "7. feature 14 (0.023364)\n",
      "8. feature 13 (0.020584)\n",
      "9. feature 9 (0.019638)\n",
      "10. feature 17 (0.013286)\n",
      "11. feature 15 (0.009421)\n",
      "12. feature 7 (0.005802)\n",
      "13. feature 5 (0.005380)\n",
      "14. feature 8 (0.003380)\n",
      "15. feature 4 (0.001728)\n",
      "16. feature 16 (0.001140)\n",
      "17. feature 12 (0.000279)\n",
      "18. feature 11 (0.000074)\n",
      "19. feature 10 (0.000060)\n"
     ]
    },
    {
     "data": {
      "image/png": "[encoded data removed]",
      "text/plain": [
       "<Figure size 720x576 with 1 Axes>"
      ]
     },
     "metadata": {},
     "output_type": "display_data"
    }
   ],
   "source": [
    "# Plot the Feature Importance.\n",
    "print(\"Feature ranking:\")\n",
    "\n",
    "std = np.std([rf_final_model.feature_importances_ for tree in rf_final_model.estimators_],\n",
    "             axis=0)\n",
    "indices = np.argsort(importances)[::-1]\n",
    "\n",
    "for f in range(X.shape[1]):\n",
    "    print(\"%d. feature %d (%f)\" % (f + 1, indices[f], importances[indices[f]]))\n",
    "\n",
    "# Plot the impurity-based feature importances of the forest\n",
    "plt.figure()\n",
    "plt.title(\"Feature importances\")\n",
    "plt.bar(range(X.shape[1]), importances[indices],\n",
    "        color=\"r\", yerr=std[indices], align=\"center\")\n",
    "plt.xticks(range(X.shape[1]), X.columns, rotation= 90)\n",
    "plt.xlim([-1, X.shape[1]])\n",
    "plt.show()"
   ]
  },
  {
   "cell_type": "markdown",
   "metadata": {},
   "source": [
    "## Hypothesis Test"
   ]
  },
  {
   "cell_type": "code",
   "execution_count": 60,
   "metadata": {},
   "outputs": [],
   "source": [
    "# Keep data only for target variable and top 2 featire from previous results\n",
    "hyp_test_sales= modelling_data.loc[(modelling_data['dispoGroup']== 1)]\n",
    "#hyp_test_sales= hyp_test1.drop(columns= ['callAttemptNumber','handleTimeSeconds'], inplace= True )"
   ]
  },
  {
   "cell_type": "code",
   "execution_count": 61,
   "metadata": {},
   "outputs": [],
   "source": [
    "hyp_test_sales= hyp_test_sales[['callAttemptNumber', 'handleTimeSeconds', 'dispoGroup']]"
   ]
  },
  {
   "cell_type": "code",
   "execution_count": 62,
   "metadata": {},
   "outputs": [
    {
     "data": {
      "text/plain": [
       "callAttemptNumber       2.780340\n",
       "handleTimeSeconds    2256.004854\n",
       "dispoGroup              1.000000\n",
       "dtype: float64"
      ]
     },
     "execution_count": 62,
     "metadata": {},
     "output_type": "execute_result"
    }
   ],
   "source": [
    "hyp_test_sales.mean()"
   ]
  },
  {
   "cell_type": "markdown",
   "metadata": {},
   "source": [
    "H<sub>0</sub>: Average attempts of call is 4.8\n",
    "\n",
    "\n",
    "H<sub>a</sub>: Number of attempts per customer should be close to 3 to increase the chance of sale.\n",
    "\n",
    "In this hypothesis, I would like to check the significance for callAttempts column, if an agent calls a customer more then 3 will increase the chance of making a sale."
   ]
  },
  {
   "cell_type": "code",
   "execution_count": 63,
   "metadata": {},
   "outputs": [
    {
     "name": "stdout",
     "output_type": "stream",
     "text": [
      "4.781851061575945\n",
      "p-values 0.0\n",
      " we are rejecting null hypothesis\n"
     ]
    }
   ],
   "source": [
    "call_attempt = compressed_join.callAttemptNumber          \n",
    "\n",
    "calls_mean = np.mean(compressed_join.callAttemptNumber)\n",
    "print(calls_mean)\n",
    "\n",
    "\n",
    "tset, pval = ttest_1samp(call_attempt, 2.78)\n",
    "print('p-values',pval)\n",
    "if pval < 0.05:    # alpha value is 0.05 or 5%\n",
    "    print(\" we are rejecting null hypothesis\")\n",
    "else:\n",
    "    print(\"we fail to reject null hypothesis\")\n"
   ]
  },
  {
   "cell_type": "markdown",
   "metadata": {},
   "source": [
    "From the above results,\n",
    "Here, I considered a sample from the data where the sale was made and it gave an mean value close to 3. Which has a p-value less then 0.05, therefore, we reject the null hypothesis.\n",
    "\n",
    " We can say that the p-value is less then 0.05, therefore, we reject the H<sub>0</sub> Hypothesis. "
   ]
  },
  {
   "cell_type": "markdown",
   "metadata": {},
   "source": [
    "H<sub>0</sub>: Average Handle time in seconds is 2000.\n",
    "\n",
    "H<sub>a</sub>: Handle time in seconds should be greater then 200 seconds to increase the chance of sale.\n",
    "\n",
    "In this hypothesis, I would like to check the significance for callAttempts column, if handle time in seconds is greater of then 200, it will increase the chance of making a sale.\n"
   ]
  },
  {
   "cell_type": "code",
   "execution_count": 64,
   "metadata": {},
   "outputs": [
    {
     "name": "stdout",
     "output_type": "stream",
     "text": [
      "137.09723672462584\n",
      "p-values 0.0\n",
      " we are rejecting null hypothesis\n"
     ]
    }
   ],
   "source": [
    "time_seconds = compressed_join.handleTimeSeconds          \n",
    "\n",
    "time_seconds_mean = np.mean(compressed_join.handleTimeSeconds)\n",
    "print(time_seconds_mean)\n",
    "\n",
    "\n",
    "tset, pval = ttest_1samp(time_seconds, 2256)\n",
    "print('p-values',pval)\n",
    "if pval < 0.05:    # alpha value is 0.05 or 5%\n",
    "    print(\" we are rejecting null hypothesis\")\n",
    "else:\n",
    "    print(\"we fail to reject null hypothesis\")"
   ]
  },
  {
   "cell_type": "markdown",
   "metadata": {},
   "source": [
    "From the above results,\n",
    "Here, I considered a sample from the data where the sale was made and it gave an mean value close to 200 seconds. Which has a p-value less then 0.05, therefore, we reject the null hypothesis.\n",
    "\n",
    "\n",
    "We can say that the p-value is less then 0.05, therefore, we reject the H<sub>0</sub> Hypothesis."
   ]
  },
  {
   "cell_type": "markdown",
   "metadata": {},
   "source": [
    "## Recommendations"
   ]
  },
  {
   "cell_type": "markdown",
   "metadata": {},
   "source": [
    "1.\tFrom the Basic Analysis, we can infer that most common reason for No Sale is \"Not Interested\", therefore, I recommend changing the way the product is presented to the customer and establish a better connection between customer and the product.\n",
    "\n",
    "\n",
    "2.\tIncentivize the agents with maximum number of sales so the agents would try their best to make sales.\n",
    "\n",
    "\n",
    "3.\tFrom the hour analysis above, we can see that most of the no sales calls are made in the time frame 14-16. One of the reasons could be that the customers are busy during the day, therefore, optimizing the agent call timings would be great solution to improve sales. For instance, a greater number of calls can be made in the evening when the customers are home after work, or during lunch time so they would be available for a chat.\n",
    "\n",
    "\n",
    "4.\tTargeting right age group and gender customers, this can be done with some product analysis, demographic analysis. If additional data for customer demographics (income, members in a house) these parameters could help target right people and hence increase sales.\n",
    "\n",
    "\n",
    "5.\tAssigning the skillful agents to right customers and training other agents would enhance the sales. This could be done with some agent data (skills, experience) based on their parameters.\n",
    "\n",
    "\n",
    "6.\tPredictive model can be built for predicting the still workable category of people and utilize resources accordingly on the right customers. In my report I have built a Classifier to classify the Still workable category to sale or no sale, this model has given a good train and validate score and have predicted the result for the test data. This model can further be improved with adding some extra features and working on a larger train dataset.\n",
    "\n",
    "\n",
    "7.\tBased on the hypothesis tests, we can target more significant feature like callAttempt and handletimeSecond to optimize the model. This way we can work on those features and increase our resources to target potential buyers.\n",
    "\n",
    "\n",
    "8.\tMoreover, more historical data could help use better understand the trends and analyze patterns for further analysis and improve the company sales.\n"
   ]
  },
  {
   "cell_type": "markdown",
   "metadata": {},
   "source": [
    " <div style=\"text-align: center\" font-size= \"50\"><b> Thank you! </div>"
   ]
  }
 ],
 "metadata": {
  "kernelspec": {
   "display_name": "Python 3",
   "language": "python",
   "name": "python3"
  },
  "language_info": {
   "codemirror_mode": {
    "name": "ipython",
    "version": 3
   },
   "file_extension": ".py",
   "mimetype": "text/x-python",
   "name": "python",
   "nbconvert_exporter": "python",
   "pygments_lexer": "ipython3",
   "version": "3.7.3"
  }
 },
 "nbformat": 4,
 "nbformat_minor": 2
}
